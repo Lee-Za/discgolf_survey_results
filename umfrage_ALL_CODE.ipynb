{
 "cells": [
  {
   "cell_type": "markdown",
   "id": "ded81d47",
   "metadata": {},
   "source": [
    "# Umfrage: Frauen, Trans-, Inter- und nicht-binäre Personen im Discgolf"
   ]
  },
  {
   "cell_type": "markdown",
   "id": "3dca3d41",
   "metadata": {},
   "source": [
    "<a id='intro'></a>\n",
    "## Übersicht\n",
    "\n",
    "Original-Datensatz, erhoben Sep-Nov 2022\n",
    "\n",
    "416 valide Antworten <br>\n",
    "327 Variablen \n",
    "\n",
    "Datensatz splittet sich in drei Befragungen:<br>\n",
    "Alle Befragten: SD_ und IN_ <br>\n",
    "Weiblich/Divers SpielerInnen: WD_<br>\n",
    "Weiblich/Divers Nicht-SpielerInnen: ND_<br>\n",
    "Männlich Spieler: M0_ (Abwandlung des Fragebogens WD_)\n",
    "    \n",
    "### Forschungsfragen\n",
    "<ul>\n",
    "<li>Mit welchen Problemen sehen sich Frauen und TIN Personen im Discgolf konfrontiert? </li>\n",
    "<li>Wie wird Sexismus in der Community (ggf. unterschiedlich) wahrgenommen? </li>\n",
    "<li>Was sind Bedürfnisse der Frauen und TIN Personen im Discgolf? </li>\n",
    "<li>Was sind Gründe dafür, dass Frauen und TIN Personen nicht anfangen Discgolf zu spielen bzw. nicht dabeibleiben? </li>\n",
    "<li>Gibt es konkrete Erfahrungen (sowohl positive als auch negative), die gehäuft auftreten  ",
    "oder als Fallbeispiele aufschlussreich sind? </li>\n",
    "</ul>\n",
    "\n",
    "### Table of Contents\n",
    "\n",
    "<ul>\n",
    "<li><a href=\"#intro\">Übersicht</a></li>\n",
    "<li><a href=\"#wrangling\">Data Wrangling</a></li>\n",
    "\n",
    "<li><a href=\"#alle\">1. Soziodemografie (alle Befragten, SpielerInnen vs. Nicht-SpielerInnen)</a></li>\n",
    "<li><a href=\"#nogolf\">2. Nicht-SpielerInnen (ND_): Was hält sie ab?</a></li>\n",
    "<li><a href=\"#golf\">3. SpielerInnen: was unterscheided W/D von M im Discgolf? (WD_ vs M0_) </a></li>\n",
    "\n",
    "</ul>\n",
    "\n",
    "\n"
   ]
  },
  {
   "cell_type": "markdown",
   "id": "ad77d41c",
   "metadata": {},
   "source": [
    "-----------------------------------"
   ]
  },
  {
   "cell_type": "code",
   "execution_count": 50,
   "id": "ecc3e362",
   "metadata": {
    "hide_input": false
   },
   "outputs": [],
   "source": [
    "# Importing libraries\n",
    "import numpy as np\n",
    "import pandas as pd\n",
    "import matplotlib.pyplot as plt\n",
    "%matplotlib inline\n",
    "import seaborn as sns\n",
    "sns.set_style(\"whitegrid\")"
   ]
  },
  {
   "cell_type": "code",
   "execution_count": 51,
   "id": "5be1a482",
   "metadata": {
    "hide_input": false
   },
   "outputs": [],
   "source": [
    "# Importing Dataset and define missing values\n",
    "df = pd.read_excel('discgolf_data_reduziert.xlsx', na_values=[-9] )"
   ]
  },
  {
   "cell_type": "code",
   "execution_count": 52,
   "id": "6fc0af17",
   "metadata": {
    "hide_input": false
   },
   "outputs": [],
   "source": [
    "# Löschen der Zeile 0 (zweireihiger Header)\n",
    "df = df.drop(0)"
   ]
  },
  {
   "cell_type": "code",
   "execution_count": 53,
   "id": "4458889a",
   "metadata": {
    "hide_input": false
   },
   "outputs": [
    {
     "data": {
      "text/plain": [
       "(434, 247)"
      ]
     },
     "execution_count": 53,
     "metadata": {},
     "output_type": "execute_result"
    }
   ],
   "source": [
    "# Zahl der Antworten (Zeilen) und Variablen (Spalten)\n",
    "df.shape"
   ]
  },
  {
   "cell_type": "markdown",
   "id": "49bb6095",
   "metadata": {},
   "source": [
    "<a id='wrangling'></a>\n",
    "## Data Wrangling"
   ]
  },
  {
   "cell_type": "code",
   "execution_count": 54,
   "id": "08924c98",
   "metadata": {},
   "outputs": [
    {
     "data": {
      "text/plain": [
       "(416, 247)"
      ]
     },
     "execution_count": 54,
     "metadata": {},
     "output_type": "execute_result"
    }
   ],
   "source": [
    "# Löschen der Antworten ohne Einverständnis\n",
    "df = df[df.IN02 != 2]\n",
    "# Zahl der Antworten und Variablen \n",
    "df.shape\n",
    "# 18 gelöscht"
   ]
  },
  {
   "cell_type": "code",
   "execution_count": 55,
   "id": "e3dfc100",
   "metadata": {},
   "outputs": [],
   "source": [
    "# Benennen der gemeinsamen Variablen\n",
    "# Variablen benennen\n",
    "df = df.rename(columns={\"SD02_01\": \"SD02_01_Alter\", \"SD03\": \"SD03_Bundesland\", \"SD01\": \"SD01_Geschlecht\", \"SD04\": \"SD04_SpielerIn\"})"
   ]
  },
  {
   "cell_type": "markdown",
   "id": "f8c5780d",
   "metadata": {},
   "source": [
    "### SpielerInnen  vs. Nicht-SpielerInnen definieren"
   ]
  },
  {
   "cell_type": "code",
   "execution_count": 56,
   "id": "6eed2d76",
   "metadata": {},
   "outputs": [
    {
     "data": {
      "text/plain": [
       "276"
      ]
     },
     "execution_count": 56,
     "metadata": {},
     "output_type": "execute_result"
    }
   ],
   "source": [
    "# fehlende Werte der Variablen SD04_SpielerIn\n",
    "df.SD04_SpielerIn.isna().sum()"
   ]
  },
  {
   "cell_type": "code",
   "execution_count": 57,
   "id": "67a86c32",
   "metadata": {},
   "outputs": [
    {
     "data": {
      "text/plain": [
       "0"
      ]
     },
     "execution_count": 57,
     "metadata": {},
     "output_type": "execute_result"
    }
   ],
   "source": [
    "# Recodieren der Variable SD04_SpielerIn (1 = w/d SpielerInnen, 2 = Nicht-Spielerinnen, missings = m Spieler)\n",
    "# missings sollen auch den Wert 1 bekommen für SpielerInnen\n",
    "df['SD04_SpielerIn'].fillna(1, inplace=True)\n",
    "df.SD04_SpielerIn.isna().sum()"
   ]
  },
  {
   "cell_type": "code",
   "execution_count": 58,
   "id": "64d9f765",
   "metadata": {},
   "outputs": [],
   "source": [
    "# Umkodieren der Werte \n",
    "umkodierung = {1: 'SpielerIn', 2:'Nicht-SpielerIn'}\n",
    "df['SD04_SpielerIn'] = df['SD04_SpielerIn'].replace(umkodierung)"
   ]
  },
  {
   "cell_type": "markdown",
   "id": "cafb0da9",
   "metadata": {},
   "source": [
    "### Geschlechter benennen"
   ]
  },
  {
   "cell_type": "code",
   "execution_count": 59,
   "id": "e0ae2fb2",
   "metadata": {},
   "outputs": [],
   "source": [
    "umkodierung = {1: 'Divers', 2:'Weiblich', 3:'Männlich'}\n",
    "df['SD01_Geschlecht'] = df['SD01_Geschlecht'].replace(umkodierung)"
   ]
  },
  {
   "cell_type": "markdown",
   "id": "f74f69d5",
   "metadata": {},
   "source": [
    "### Bundesländern benennen"
   ]
  },
  {
   "cell_type": "code",
   "execution_count": 60,
   "id": "6e52d592",
   "metadata": {},
   "outputs": [],
   "source": [
    "# Umkodieren der Werte \n",
    "umkodierung = {1: 'Nicht in Deutschland', 2:'Baden-Württemberg', 3: 'Bayern', 4:'Berlin', 5:'Brandenburg', 6:'Bremen', 7:'Hamburg', 8:'Hessen', 9:'Mecklenburg-Vorpommern', 10:'Niedersachsen', 11:'Nordrhein-Westfalen', 12:'Rheinland-Pfalz', 13:'Saarland', 14:'Sachsen-Anhalt', 15:'Sachsen', 16:'Schleswig-Holstein', 17:'Thüringen'}\n",
    "df['SD03_Bundesland'] = df['SD03_Bundesland'].replace(umkodierung)"
   ]
  },
  {
   "cell_type": "markdown",
   "id": "ad6b7de1",
   "metadata": {},
   "source": [
    "### Aufsplitten des Datensatzes"
   ]
  },
  {
   "cell_type": "markdown",
   "id": "f61aec40",
   "metadata": {},
   "source": [
    "#### alle = Soziodemografie/Alle Befragte: (SD_)"
   ]
  },
  {
   "cell_type": "code",
   "execution_count": 61,
   "id": "07bb659e",
   "metadata": {},
   "outputs": [
    {
     "data": {
      "text/html": [
       "<div>\n",
       "<style scoped>\n",
       "    .dataframe tbody tr th:only-of-type {\n",
       "        vertical-align: middle;\n",
       "    }\n",
       "\n",
       "    .dataframe tbody tr th {\n",
       "        vertical-align: top;\n",
       "    }\n",
       "\n",
       "    .dataframe thead th {\n",
       "        text-align: right;\n",
       "    }\n",
       "</style>\n",
       "<table border=\"1\" class=\"dataframe\">\n",
       "  <thead>\n",
       "    <tr style=\"text-align: right;\">\n",
       "      <th></th>\n",
       "      <th>SD02_01_Alter</th>\n",
       "      <th>SD03_Bundesland</th>\n",
       "      <th>SD01_Geschlecht</th>\n",
       "      <th>SD04_SpielerIn</th>\n",
       "    </tr>\n",
       "  </thead>\n",
       "  <tbody>\n",
       "    <tr>\n",
       "      <th>1</th>\n",
       "      <td>40</td>\n",
       "      <td>NaN</td>\n",
       "      <td>Weiblich</td>\n",
       "      <td>SpielerIn</td>\n",
       "    </tr>\n",
       "    <tr>\n",
       "      <th>2</th>\n",
       "      <td>44</td>\n",
       "      <td>NaN</td>\n",
       "      <td>Weiblich</td>\n",
       "      <td>SpielerIn</td>\n",
       "    </tr>\n",
       "    <tr>\n",
       "      <th>3</th>\n",
       "      <td>36</td>\n",
       "      <td>NaN</td>\n",
       "      <td>Weiblich</td>\n",
       "      <td>SpielerIn</td>\n",
       "    </tr>\n",
       "  </tbody>\n",
       "</table>\n",
       "</div>"
      ],
      "text/plain": [
       "  SD02_01_Alter SD03_Bundesland SD01_Geschlecht SD04_SpielerIn\n",
       "1            40             NaN        Weiblich      SpielerIn\n",
       "2            44             NaN        Weiblich      SpielerIn\n",
       "3            36             NaN        Weiblich      SpielerIn"
      ]
     },
     "execution_count": 61,
     "metadata": {},
     "output_type": "execute_result"
    }
   ],
   "source": [
    "alle = df.loc[:,df.columns.str.startswith('SD')]\n",
    "alle.head(3)"
   ]
  },
  {
   "cell_type": "code",
   "execution_count": 62,
   "id": "e2574bc4",
   "metadata": {},
   "outputs": [
    {
     "data": {
      "text/plain": [
       "(416, 4)"
      ]
     },
     "execution_count": 62,
     "metadata": {},
     "output_type": "execute_result"
    }
   ],
   "source": [
    "alle.shape"
   ]
  },
  {
   "cell_type": "markdown",
   "id": "df63f03b",
   "metadata": {},
   "source": [
    "#### nogolf = weiblich/diverse Nicht-DiscgolferInnen (ND_)"
   ]
  },
  {
   "cell_type": "code",
   "execution_count": 63,
   "id": "e6cd55e7",
   "metadata": {},
   "outputs": [
    {
     "data": {
      "text/plain": [
       "(20, 26)"
      ]
     },
     "execution_count": 63,
     "metadata": {},
     "output_type": "execute_result"
    }
   ],
   "source": [
    "nogolf = df.loc[:,df.columns.str.startswith(('ND', 'SD'))]\n",
    "\n",
    "# SpielerInnen aussortieren\n",
    "nogolf = nogolf[nogolf.SD04_SpielerIn == 'Nicht-SpielerIn']\n",
    "\n",
    "nogolf.shape\n",
    "# 20 NichtSpielerInnen verbleiben"
   ]
  },
  {
   "cell_type": "markdown",
   "id": "5d26b928",
   "metadata": {},
   "source": [
    "#### golf = weibliche/diverse/männliche DiscgolferInnen (WD_  und M0_)"
   ]
  },
  {
   "cell_type": "code",
   "execution_count": 64,
   "id": "74489990",
   "metadata": {
    "tags": []
   },
   "outputs": [],
   "source": [
    "# Variablen (m und w/d) mergen und fehlende Werte überschreiben, zumindest dort wo die Antwortmöglichkeiten praktisch identisch sind.\n",
    "# check fehlende Werte\n",
    "golf.M002.isna().sum(), golf.WD01.isna().sum() # passt\n",
    "# Seit wann spielst du Discgolf?\n",
    "df['M002_WD01'] = df['M002'].fillna(df['WD01'])\n",
    "df['M002_01_WD01_01'] = df['M002_01'].fillna(df['WD01_01'])\n",
    "df['M002_02_WD01_02'] = df['M002_02'].fillna(df['WD01_02'])\n",
    "df['M002_01a_WD01_01a'] = df['M002_01a'].fillna(df['WD01_01a'])\n",
    "df['M002_02a_WD01_02a'] = df['M002_02a'].fillna(df['WD01_02a'])\n",
    "# Bist oder warst du in einem Discgolfverein angemeldet?\n",
    "df['M003_WD02'] = df['M003'].fillna(df['WD02'])\n",
    "# Wie oft spielst du Turniere\n",
    "df['M005_WD04'] = df['M005'].fillna(df['WD04'])\n",
    "df['M005_01_WD04_01'] = df['M005_01'].fillna(df['WD04_01'])\n",
    "df['M005_02_WD04_02'] = df['M005_02'].fillna(df['WD04_02'])\n",
    "df['M005_03_WD04_03'] = df['M005_03'].fillna(df['WD04_03'])\n",
    "df['M005_04_WD04_04'] = df['M005_04'].fillna(df['WD04_04'])\n",
    "df['M005_05_WD04_05'] = df['M005_05'].fillna(df['WD04_05'])\n",
    "df['M005_01a_WD04_01a'] = df['M005_01a'].fillna(df['WD04_01a'])\n",
    "df['M005_02a_WD04_02a'] = df['M005_02a'].fillna(df['WD04_02a'])\n",
    "df['M005_03a_WD04_03a'] = df['M005_03a'].fillna(df['WD04_03a'])\n",
    "df['M005_04a_WD04_04a'] = df['M005_04a'].fillna(df['WD04_04a'])\n",
    "# Engagierst du dich für den Sport, egal ob als Vereinsmitglied oder privat?\n",
    "df['M001_WD06'] = df['M001'].fillna(df['WD06'])\n",
    "df['M001_01_WD06_01'] = df['M001_01'].fillna(df['WD06_01'])\n",
    "df['M001_02_WD06_02'] = df['M001_02'].fillna(df['WD06_02'])\n",
    "df['M001_03_WD06_03'] = df['M001_03'].fillna(df['WD06_03'])\n",
    "df['M001_04_WD06_04'] = df['M001_04'].fillna(df['WD06_04'])\n",
    "df['M001_05_WD06_05'] = df['M001_05'].fillna(df['WD06_05'])\n",
    "df['M001_06_WD06_06'] = df['M001_06'].fillna(df['WD06_06'])\n",
    "df['M001_05a_WD06_05a'] = df['M001_05a'].fillna(df['WD06_05a'])\n",
    "df['M001_06a_WD06_06a'] = df['M001_06a'].fillna(df['WD06_06a'])\n",
    "# Wie bist du auf Discgolf aufmerksam geworden?\n",
    "df['M007_WD07'] = df['M007'].fillna(df['WD07'])\n",
    "df['M007_01_WD07_01'] = df['M007_01'].fillna(df['WD07_01'])\n",
    "df['M007_02_WD07_02'] = df['M007_02'].fillna(df['WD07_02'])\n",
    "df['M007_03_WD07_03'] = df['M007_03'].fillna(df['WD07_03'])\n",
    "df['M007_04_WD07_04'] = df['M007_04'].fillna(df['WD07_04'])\n",
    "df['M007_05_WD07_05'] = df['M007_05'].fillna(df['WD07_05'])\n",
    "df['M007_06_WD07_06'] = df['M007_06'].fillna(df['WD07_06'])\n",
    "df['M007_07_WD07_07'] = df['M007_07'].fillna(df['WD07_07'])\n",
    "df['M007_08_WD07_08'] = df['M007_08'].fillna(df['WD07_08'])\n",
    "df['M007_09_WD07_09'] = df['M007_09'].fillna(df['WD07_09'])\n",
    "df['M007_09a_WD07_09a'] = df['M007_09a'].fillna(df['WD07_09a'])\n",
    "# Was hat dir an dem Sport gefallen, sodass du dabei geblieben bist?\n",
    "df['M008_WD08'] = df['M008'].fillna(df['WD08'])\n",
    "df['M008_01_WD08_01'] = df['M008_01'].fillna(df['WD08_01'])\n",
    "df['M008_02_WD08_02'] = df['M008_02'].fillna(df['WD08_02'])\n",
    "df['M008_03_WD08_03'] = df['M008_03'].fillna(df['WD08_03'])\n",
    "df['M008_04_WD08_04'] = df['M008_04'].fillna(df['WD08_04'])\n",
    "df['M008_05_WD08_05'] = df['M008_05'].fillna(df['WD08_05'])\n",
    "df['M008_06_WD08_06'] = df['M008_06'].fillna(df['WD08_06'])\n",
    "df['M008_07_WD08_07'] = df['M008_07'].fillna(df['WD08_07'])\n",
    "df['M008_08_WD08_08'] = df['M008_08'].fillna(df['WD08_08'])\n",
    "df['M008_09_WD08_09'] = df['M008_09'].fillna(df['WD08_09'])\n",
    "df['M008_10_WD08_10'] = df['M008_10'].fillna(df['WD08_10'])\n",
    "df['M008_11_WD08_11'] = df['M008_11'].fillna(df['WD08_11'])\n",
    "df['M008_11a_WD08_11a'] = df['M008_11a'].fillna(df['WD08_11a'])\n",
    "# Wie wohl fühlst du dich insgesamt als Mitglied der Discgolfgemeinschaft?\n",
    "df['M009_01_WD09_01'] = df['M009_01'].fillna(df['WD09_01'])\n",
    "# Was schätzt du: wie hoch ist der Anteeil von als weiblich oder divers gemeldeten Personen im Discgolf?\n",
    "df['M010_01_WD10_01'] = df['M010_01'].fillna(df['WD10_01'])\n",
    "df['M010_01a_WD10_01a'] = df['M010_01a'].fillna(df['WD10_01a'])\n",
    "df['M010_02a_WD10_02a'] = df['M010_02a'].fillna(df['WD10_02a'])\n",
    "df['M010_02_WD10_02'] = df['M010_02'].fillna(df['WD10_02'])\n",
    "# ------- SPRUNG -------\n",
    "#Bitte kreuze an, was du schon einmal erlebt hast bzw. was auf dich zutrifft.\n",
    "df['M027_WD25'] = df['M027'].fillna(df['WD25'])\n",
    "df['M027_01_WD25_01'] = df['M027_01'].fillna(df['WD25_01'])\n",
    "df['M027_02_WD25_02'] = df['M027_02'].fillna(df['WD25_02'])\n",
    "df['M027_03_WD25_03'] = df['M027_03'].fillna(df['WD25_03'])\n",
    "df['M027_04_WD25_04'] = df['M027_04'].fillna(df['WD25_04'])\n",
    "df['M027_05_WD25_05'] = df['M027_05'].fillna(df['WD25_05'])\n",
    "df['M027_06_WD25_06'] = df['M027_06'].fillna(df['WD25_06'])\n",
    "df['M027_07_WD25_07'] = df['M027_07'].fillna(df['WD25_07'])\n",
    "df['M027_08_WD25_08'] = df['M027_08'].fillna(df['WD25_08'])\n",
    "df['M027_09_WD25_09'] = df['M027_09'].fillna(df['WD25_09'])\n",
    "df['M027_10_WD25_10'] = df['M027_10'].fillna(df['WD25_10'])\n",
    "df['M027_11_WD25_11'] = df['M027_11'].fillna(df['WD25_11'])\n",
    "df['M027_12_WD25_12'] = df['M027_12'].fillna(df['WD25_12'])\n",
    "df['M027_13_WD25_13'] = df['M027_13'].fillna(df['WD25_13'])\n",
    "df['M027_14_WD25_14'] = df['M027_14'].fillna(df['WD25_14'])\n",
    "df['M027_15_WD25_15'] = df['M027_15'].fillna(df['WD25_15'])\n",
    "df['M027_05a_WD25_05a'] = df['M027_05a'].fillna(df['WD25_05a'])"
   ]
  },
  {
   "cell_type": "code",
   "execution_count": 65,
   "id": "3c4dcdfd-f483-437b-8bcd-0d9d912e5e8a",
   "metadata": {},
   "outputs": [
    {
     "data": {
      "text/plain": [
       "(396, 290)"
      ]
     },
     "execution_count": 65,
     "metadata": {},
     "output_type": "execute_result"
    }
   ],
   "source": [
    "golf = df.loc[:,df.columns.str.startswith(('WD', 'M0', 'SD'))]# NICHTSpielerInnen aussortieren\n",
    "golf = golf[golf.SD04_SpielerIn != 'Nicht-SpielerIn']\n",
    "golf.shape"
   ]
  },
  {
   "cell_type": "markdown",
   "id": "f2eec848",
   "metadata": {},
   "source": [
    "<a id='alle'></a>\n",
    "## 1. Soziodemografie (alle)"
   ]
  },
  {
   "cell_type": "code",
   "execution_count": 66,
   "id": "b05dc590",
   "metadata": {},
   "outputs": [
    {
     "data": {
      "text/plain": [
       "SD02_01_Alter       0\n",
       "SD03_Bundesland    54\n",
       "SD01_Geschlecht     0\n",
       "SD04_SpielerIn      0\n",
       "dtype: int64"
      ]
     },
     "execution_count": 66,
     "metadata": {},
     "output_type": "execute_result"
    }
   ],
   "source": [
    "# missing values check. Bundesland leider 54 fehlende Angaben\n",
    "alle.isna().sum()\t"
   ]
  },
  {
   "cell_type": "markdown",
   "id": "73bb376f",
   "metadata": {},
   "source": [
    "### SD01_Geschlecht"
   ]
  },
  {
   "cell_type": "code",
   "execution_count": 67,
   "id": "04630147",
   "metadata": {
    "scrolled": true
   },
   "outputs": [
    {
     "data": {
      "text/plain": [
       "Männlich    276\n",
       "Weiblich    133\n",
       "Divers        7\n",
       "Name: SD01_Geschlecht, dtype: int64"
      ]
     },
     "execution_count": 67,
     "metadata": {},
     "output_type": "execute_result"
    }
   ],
   "source": [
    "#Häufigkeiten\n",
    "geschlechter = alle['SD01_Geschlecht'].value_counts()\n",
    "geschlechter"
   ]
  },
  {
   "cell_type": "code",
   "execution_count": 68,
   "id": "b9a1b3e6",
   "metadata": {},
   "outputs": [
    {
     "data": {
      "image/png": "[encoded data removed]",
      "text/plain": [
       "<Figure size 432x288 with 1 Axes>"
      ]
     },
     "metadata": {},
     "output_type": "display_data"
    }
   ],
   "source": [
    "# Prozente\n",
    "plt.pie(geschlechter, labels=geschlechter.index, autopct='%1.2f%%', textprops={'fontsize': 16});"
   ]
  },
  {
   "cell_type": "markdown",
   "id": "33989940",
   "metadata": {},
   "source": [
    "### SD02_01_Alter"
   ]
  },
  {
   "cell_type": "code",
   "execution_count": 69,
   "id": "1e5ec56b",
   "metadata": {},
   "outputs": [
    {
     "data": {
      "text/plain": [
       "Text(0, 0.5, 'Häufigkeit')"
      ]
     },
     "execution_count": 69,
     "metadata": {},
     "output_type": "execute_result"
    },
    {
     "data": {
      "image/png": "[encoded data removed]",
      "text/plain": [
       "<Figure size 1080x360 with 1 Axes>"
      ]
     },
     "metadata": {},
     "output_type": "display_data"
    }
   ],
   "source": [
    "alle['SD02_01_Alter'].hist(figsize =(15,5), bins=14)\t\n",
    "# rote Linie für Durchschnittsalter\n",
    "plt.axvline(x=df['SD02_01_Alter'].mean(), color='r', linestyle='--', linewidth=5)\n",
    "# Set plot title and axis labels\n",
    "plt.title('')\n",
    "plt.xlabel('Alter')\n",
    "plt.ylabel('Häufigkeit')"
   ]
  },
  {
   "cell_type": "code",
   "execution_count": 70,
   "id": "4e6db526",
   "metadata": {},
   "outputs": [
    {
     "name": "stdout",
     "output_type": "stream",
     "text": [
      "Durchschnittsalter aller Befragten: 38.34134615384615\n"
     ]
    }
   ],
   "source": [
    "# Durchschnittalter aller Befragten\n",
    "x=alle['SD02_01_Alter'].mean()\n",
    "print(f'Durchschnittsalter aller Befragten: {x}')"
   ]
  },
  {
   "cell_type": "markdown",
   "id": "bff5df64",
   "metadata": {},
   "source": [
    "### SD03_Bundesland"
   ]
  },
  {
   "cell_type": "code",
   "execution_count": 71,
   "id": "1b983b77",
   "metadata": {},
   "outputs": [
    {
     "data": {
      "text/plain": [
       "Nordrhein-Westfalen       81\n",
       "Hessen                    41\n",
       "Berlin                    39\n",
       "Niedersachsen             33\n",
       "Brandenburg               31\n",
       "Baden-Württemberg         29\n",
       "Bayern                    25\n",
       "Bremen                    22\n",
       "Hamburg                   20\n",
       "Nicht in Deutschland      11\n",
       "Mecklenburg-Vorpommern     6\n",
       "Schleswig-Holstein         6\n",
       "Sachsen                    5\n",
       "Rheinland-Pfalz            4\n",
       "Thüringen                  4\n",
       "Sachsen-Anhalt             3\n",
       "Saarland                   2\n",
       "Name: SD03_Bundesland, dtype: int64"
      ]
     },
     "execution_count": 71,
     "metadata": {},
     "output_type": "execute_result"
    }
   ],
   "source": [
    "# Verteilung auf die Bundesländer\n",
    "# Count the occurrences of each value in the 'col' column\n",
    "counts = alle['SD03_Bundesland'].value_counts()\n",
    "\n",
    "# Sort the counts in descending order\n",
    "sorted_counts = counts.sort_values(ascending=False)\n",
    "sorted_counts"
   ]
  },
  {
   "cell_type": "code",
   "execution_count": 72,
   "id": "dd21dede",
   "metadata": {},
   "outputs": [
    {
     "data": {
      "text/plain": [
       "Text(0, 0.5, 'Häufigkeiten')"
      ]
     },
     "execution_count": 72,
     "metadata": {},
     "output_type": "execute_result"
    },
    {
     "data": {
      "image/png": "[encoded data removed]",
      "text/plain": [
       "<Figure size 720x360 with 1 Axes>"
      ]
     },
     "metadata": {},
     "output_type": "display_data"
    }
   ],
   "source": [
    "# Plot a bar chart of the sorted counts\n",
    "sorted_counts.plot(kind='bar', figsize=(10, 5))\n",
    "\n",
    "# Set plot title and axis labels\n",
    "plt.title('')\n",
    "plt.xlabel('Bundesländer')\n",
    "plt.ylabel('Häufigkeiten')"
   ]
  },
  {
   "cell_type": "markdown",
   "id": "2ecb41cf",
   "metadata": {},
   "source": [
    "### SD04_SpielerInnnen vs. Nicht-SpielerInnen"
   ]
  },
  {
   "cell_type": "code",
   "execution_count": 73,
   "id": "168fb2c2",
   "metadata": {},
   "outputs": [
    {
     "data": {
      "text/plain": [
       "SpielerIn          396\n",
       "Nicht-SpielerIn     20\n",
       "Name: SD04_SpielerIn, dtype: int64"
      ]
     },
     "execution_count": 73,
     "metadata": {},
     "output_type": "execute_result"
    }
   ],
   "source": [
    "# 396 SpielerInnenen (m/w/d) / 20 NichtSpielerInnen (w/d)\n",
    "alle['SD04_SpielerIn'].value_counts()"
   ]
  },
  {
   "cell_type": "markdown",
   "id": "469d05eb",
   "metadata": {},
   "source": [
    "<a id='nogolf'></a>\n",
    "## 2. Betrachtung der Nicht-Discgolf-SpielerInnen (20 Personen)"
   ]
  },
  {
   "cell_type": "markdown",
   "id": "8bf0a7d7",
   "metadata": {},
   "source": [
    "### Soziodemografie (leider zu wenige Fälle für interessante Aussagen)"
   ]
  },
  {
   "cell_type": "code",
   "execution_count": 74,
   "id": "7b5c0332",
   "metadata": {},
   "outputs": [
    {
     "data": {
      "text/plain": [
       "<matplotlib.lines.Line2D at 0x7f8f3d626a90>"
      ]
     },
     "execution_count": 74,
     "metadata": {},
     "output_type": "execute_result"
    },
    {
     "data": {
      "image/png": "[encoded data removed]",
      "text/plain": [
       "<Figure size 432x288 with 1 Axes>"
      ]
     },
     "metadata": {},
     "output_type": "display_data"
    }
   ],
   "source": [
    "# Alter\n",
    "x=nogolf['SD02_01_Alter'].mean()\n",
    "nogolf.SD02_01_Alter.hist(bins=14)\n",
    "plt.axvline(x=nogolf['SD02_01_Alter'].mean(), color='r', linestyle='--', linewidth=5)"
   ]
  },
  {
   "cell_type": "code",
   "execution_count": 129,
   "id": "da22b07e",
   "metadata": {},
   "outputs": [
    {
     "name": "stdout",
     "output_type": "stream",
     "text": [
      "Durchschnittliches Alter: 3.363178272980502\n"
     ]
    }
   ],
   "source": [
    "# Durchschnittsalter\n",
    "print(f'Durchschnittliches Alter: {x}')"
   ]
  },
  {
   "cell_type": "code",
   "execution_count": 76,
   "id": "c28cadfd",
   "metadata": {},
   "outputs": [
    {
     "data": {
      "text/plain": [
       "Bayern                    4\n",
       "Brandenburg               4\n",
       "Nordrhein-Westfalen       3\n",
       "Baden-Württemberg         2\n",
       "Sachsen                   1\n",
       "Hessen                    1\n",
       "Mecklenburg-Vorpommern    1\n",
       "Bremen                    1\n",
       "Name: SD03_Bundesland, dtype: int64"
      ]
     },
     "execution_count": 76,
     "metadata": {},
     "output_type": "execute_result"
    }
   ],
   "source": [
    "# Bundesland\n",
    "nogolf.SD03_Bundesland.value_counts()"
   ]
  },
  {
   "cell_type": "code",
   "execution_count": 77,
   "id": "7d572d84",
   "metadata": {},
   "outputs": [
    {
     "data": {
      "text/plain": [
       "Weiblich    17\n",
       "Divers       3\n",
       "Name: SD01_Geschlecht, dtype: int64"
      ]
     },
     "execution_count": 77,
     "metadata": {},
     "output_type": "execute_result"
    }
   ],
   "source": [
    "# Geschlecht: 17 weiblich, 3 divers\n",
    "nogolf.SD01_Geschlecht.value_counts()"
   ]
  },
  {
   "cell_type": "markdown",
   "id": "b8f26dab",
   "metadata": {},
   "source": [
    "### ND01 anderer Sport"
   ]
  },
  {
   "cell_type": "code",
   "execution_count": 78,
   "id": "56163f9c",
   "metadata": {},
   "outputs": [
    {
     "data": {
      "text/plain": [
       "Ultimate                             6\n",
       "Ultimate Frisbee                     3\n",
       "Pilates, Yoga, bisschen Fitness      1\n",
       "Pilates, Gymnasium, Fahrradfahren    1\n",
       "Fahrradfahren, Wandern, Schwimmen    1\n",
       "Laufen                               1\n",
       "Ultimate Frisbee und Fußball         1\n",
       "Pilates, Yoga, Schwimmen             1\n",
       "Name: ND01_05, dtype: int64"
      ]
     },
     "execution_count": 78,
     "metadata": {},
     "output_type": "execute_result"
    }
   ],
   "source": [
    "# machst du einen anderen Sport?\n",
    "nogolf.ND01.isna().sum()\n",
    "# 0 missings\n",
    "# 5 Personen haben NEIN genatwortet, die anderen folgendermaßen\n",
    "nogolf.ND01_05.value_counts()"
   ]
  },
  {
   "cell_type": "markdown",
   "id": "9334ae1a",
   "metadata": {},
   "source": [
    "### ND02 Woher kennen Nicht-SpielerInnen Discgolf?"
   ]
  },
  {
   "cell_type": "code",
   "execution_count": 79,
   "id": "6f33f37c",
   "metadata": {},
   "outputs": [],
   "source": [
    "# Umbenennen der Variablen\n",
    "nogolf = nogolf.rename(columns={'ND02_01': 'ND02_01_Freunde/Familie', 'ND02_02':'ND02_02_PartnerIn', 'ND02_03':'ND02_03_Discgolf-Event', 'ND02_04':'ND02_04_Incentive','ND02_07':'ND02_07_Beobachtung','ND02_08':'ND02_08_Lokalpresse', 'ND02_09':'ND02_09_Webseite', 'ND02_10':'ND02_10_SozialeMedien', 'ND02_11':'ND02_11_Flyer', 'ND02_05':'ND02_05_Sonstiges', 'ND02_12':'ND02_12_GarNicht'})"
   ]
  },
  {
   "cell_type": "code",
   "execution_count": 80,
   "id": "fa8d2e09",
   "metadata": {},
   "outputs": [
    {
     "data": {
      "text/plain": [
       "1    13\n",
       "2     4\n",
       "3     2\n",
       "5     1\n",
       "Name: ND02, dtype: int64"
      ]
     },
     "execution_count": 80,
     "metadata": {},
     "output_type": "execute_result"
    }
   ],
   "source": [
    "# ND02 woher kennst du Discgolf? (2 = ausgewählt, 1 = nicht ausgewählt)\n",
    "nogolf.ND02.isna().sum() # 0 missings\n",
    "nogolf.ND02.value_counts() # Anzahl ausgewählter Optionen"
   ]
  },
  {
   "cell_type": "code",
   "execution_count": 81,
   "id": "1da8190f",
   "metadata": {},
   "outputs": [
    {
     "data": {
      "text/html": [
       "<div>\n",
       "<style scoped>\n",
       "    .dataframe tbody tr th:only-of-type {\n",
       "        vertical-align: middle;\n",
       "    }\n",
       "\n",
       "    .dataframe tbody tr th {\n",
       "        vertical-align: top;\n",
       "    }\n",
       "\n",
       "    .dataframe thead th {\n",
       "        text-align: right;\n",
       "    }\n",
       "</style>\n",
       "<table border=\"1\" class=\"dataframe\">\n",
       "  <thead>\n",
       "    <tr style=\"text-align: right;\">\n",
       "      <th></th>\n",
       "      <th>Variable</th>\n",
       "      <th>count</th>\n",
       "    </tr>\n",
       "  </thead>\n",
       "  <tbody>\n",
       "    <tr>\n",
       "      <th>0</th>\n",
       "      <td>ND02_01_Freunde/Familie</td>\n",
       "      <td>11</td>\n",
       "    </tr>\n",
       "    <tr>\n",
       "      <th>4</th>\n",
       "      <td>ND02_07_Beobachtung</td>\n",
       "      <td>7</td>\n",
       "    </tr>\n",
       "    <tr>\n",
       "      <th>9</th>\n",
       "      <td>ND02_05_Sonstiges</td>\n",
       "      <td>4</td>\n",
       "    </tr>\n",
       "    <tr>\n",
       "      <th>2</th>\n",
       "      <td>ND02_03_Discgolf-Event</td>\n",
       "      <td>3</td>\n",
       "    </tr>\n",
       "    <tr>\n",
       "      <th>1</th>\n",
       "      <td>ND02_02_PartnerIn</td>\n",
       "      <td>2</td>\n",
       "    </tr>\n",
       "    <tr>\n",
       "      <th>5</th>\n",
       "      <td>ND02_08_Lokalpresse</td>\n",
       "      <td>2</td>\n",
       "    </tr>\n",
       "    <tr>\n",
       "      <th>7</th>\n",
       "      <td>ND02_10_SozialeMedien</td>\n",
       "      <td>2</td>\n",
       "    </tr>\n",
       "    <tr>\n",
       "      <th>6</th>\n",
       "      <td>ND02_09_Webseite</td>\n",
       "      <td>1</td>\n",
       "    </tr>\n",
       "    <tr>\n",
       "      <th>3</th>\n",
       "      <td>ND02_04_Incentive</td>\n",
       "      <td>0</td>\n",
       "    </tr>\n",
       "    <tr>\n",
       "      <th>8</th>\n",
       "      <td>ND02_11_Flyer</td>\n",
       "      <td>0</td>\n",
       "    </tr>\n",
       "    <tr>\n",
       "      <th>10</th>\n",
       "      <td>ND02_05a</td>\n",
       "      <td>0</td>\n",
       "    </tr>\n",
       "    <tr>\n",
       "      <th>11</th>\n",
       "      <td>ND02_12_GarNicht</td>\n",
       "      <td>0</td>\n",
       "    </tr>\n",
       "  </tbody>\n",
       "</table>\n",
       "</div>"
      ],
      "text/plain": [
       "                   Variable  count\n",
       "0   ND02_01_Freunde/Familie     11\n",
       "4       ND02_07_Beobachtung      7\n",
       "9         ND02_05_Sonstiges      4\n",
       "2    ND02_03_Discgolf-Event      3\n",
       "1         ND02_02_PartnerIn      2\n",
       "5       ND02_08_Lokalpresse      2\n",
       "7     ND02_10_SozialeMedien      2\n",
       "6          ND02_09_Webseite      1\n",
       "3         ND02_04_Incentive      0\n",
       "8             ND02_11_Flyer      0\n",
       "10                 ND02_05a      0\n",
       "11         ND02_12_GarNicht      0"
      ]
     },
     "execution_count": 81,
     "metadata": {},
     "output_type": "execute_result"
    }
   ],
   "source": [
    "# Define the value you want to count\n",
    "value_to_count = 2\n",
    "\n",
    "# Select columns that start with 'ND02_'\n",
    "nd02_columns = nogolf.filter(regex='^ND02_')\n",
    "\n",
    "# Leere Liste für neue Daten\n",
    "counts = []\n",
    "\n",
    "# Loop through each selected column and count the frequencies of the value\n",
    "for col in nd02_columns:\n",
    "    count = (nogolf[col] == value_to_count).sum()\n",
    "    \n",
    "    # store new data in Dictionary\n",
    "    new_row = {'Variable': col, 'count': count}\n",
    "    \n",
    "    # add new data to eemoty list 'counts'\n",
    "    counts.append(new_row)\n",
    "\n",
    "# Liste in Dataframe umwandeln und nach Häufigkeiten sortieren\n",
    "nogolf_ND02 = pd.DataFrame(counts).sort_values('count', ascending=False)\n",
    "# Sortieren des DataFrames nach der Spalte \"count\"\n",
    "nogolf_ND02"
   ]
  },
  {
   "cell_type": "code",
   "execution_count": 82,
   "id": "0a89e7e4",
   "metadata": {},
   "outputs": [
    {
     "data": {
      "text/plain": [
       "Ultimateteam             1\n",
       "Mitspieler*innen         1\n",
       "über Ultimate Frisbee    1\n",
       "Übers Ultimate           1\n",
       "Name: ND02_05a, dtype: int64"
      ]
     },
     "execution_count": 82,
     "metadata": {},
     "output_type": "execute_result"
    }
   ],
   "source": [
    "nogolf.ND02_05a.value_counts() # Sonstige Angaben"
   ]
  },
  {
   "cell_type": "markdown",
   "id": "6ec51078",
   "metadata": {},
   "source": [
    "### ND03 wüdest du gerne discgolf spielen?"
   ]
  },
  {
   "cell_type": "code",
   "execution_count": 83,
   "id": "bc085f3c",
   "metadata": {},
   "outputs": [
    {
     "data": {
      "text/plain": [
       "Vielleicht    11\n",
       "Nein           5\n",
       "Ja             4\n",
       "Name: ND03, dtype: int64"
      ]
     },
     "execution_count": 83,
     "metadata": {},
     "output_type": "execute_result"
    }
   ],
   "source": [
    "# umkodieren der Werte\n",
    "umkodieren = {1:'Ja', 2:'Vielleicht', 3:'Nein'}\n",
    "# Ausgabe der Häufigkeiten\n",
    "nogolf.ND03 = nogolf.ND03.replace(umkodieren)\n",
    "nogolf.ND03.value_counts() "
   ]
  },
  {
   "cell_type": "markdown",
   "id": "9b89d319",
   "metadata": {},
   "source": [
    "### ND06 Schätzung der weiblich/divers gemeldeten SpielerInnen (%)"
   ]
  },
  {
   "cell_type": "code",
   "execution_count": 84,
   "id": "088914a4",
   "metadata": {},
   "outputs": [],
   "source": [
    "# Umbenennen der Variablen\n",
    "nogolf = nogolf.rename(columns={'ND06_01': 'weiblich-gemeldet',  'ND06_02': 'divers-gemeldet'})\n",
    "# Zahlen mit Kommastellen und data type vereinheitlichen \n",
    "umkodierung = {'0,5':0.5, '0,2':0.2}\n",
    "nogolf['divers-gemeldet'] = nogolf['divers-gemeldet'].replace(umkodierung)\n",
    "nogolf['divers-gemeldet'] = nogolf['divers-gemeldet'].astype(float)"
   ]
  },
  {
   "cell_type": "code",
   "execution_count": 85,
   "id": "4ca04ae5",
   "metadata": {},
   "outputs": [
    {
     "name": "stdout",
     "output_type": "stream",
     "text": [
      "16.45 Prozent\n"
     ]
    }
   ],
   "source": [
    "# Schätzung Anteil der weiblichen SpielerInnen (Mittelwert)\n",
    "x  = nogolf['weiblich-gemeldet'].mean()\n",
    "print(f'Nicht-SpielerInnen schätzen den Anteil weiblich gemeldeter Spielerinnen auf {x} Prozent')"
   ]
  },
  {
   "cell_type": "code",
   "execution_count": 86,
   "id": "2666f6e7",
   "metadata": {},
   "outputs": [
    {
     "name": "stdout",
     "output_type": "stream",
     "text": [
      "2.4157894736842107 Prozent\n"
     ]
    }
   ],
   "source": [
    "# Schätzung Anteil der diversen SpielerInnen (Mittelwert)\n",
    "x = nogolf['divers-gemeldet'].mean()\n",
    "print(f'Nicht-SpielerInnen schätzen den Anteil divers gemeldeter SpielerInnen auf {x} Prozent')"
   ]
  },
  {
   "cell_type": "markdown",
   "id": "eafc924d",
   "metadata": {},
   "source": [
    "<a id='golf'></a>\n",
    "## 3. Betrachtung der SpielerInnen (w/d/m) "
   ]
  },
  {
   "cell_type": "markdown",
   "id": "9f64a734",
   "metadata": {},
   "source": [
    "### Soziodemografie"
   ]
  },
  {
   "cell_type": "code",
   "execution_count": 87,
   "id": "acac03ff",
   "metadata": {},
   "outputs": [
    {
     "data": {
      "text/plain": [
       "<matplotlib.lines.Line2D at 0x7f8f3d4e9460>"
      ]
     },
     "execution_count": 87,
     "metadata": {},
     "output_type": "execute_result"
    },
    {
     "data": {
      "image/png": "[encoded data removed]",
      "text/plain": [
       "<Figure size 432x288 with 1 Axes>"
      ]
     },
     "metadata": {},
     "output_type": "display_data"
    }
   ],
   "source": [
    "# Alter\n",
    "x=golf['SD02_01_Alter'].mean()\n",
    "golf.SD02_01_Alter.hist(bins=14)\n",
    "plt.axvline(x=golf['SD02_01_Alter'].mean(), color='r', linestyle='--', linewidth=5)"
   ]
  },
  {
   "cell_type": "code",
   "execution_count": 88,
   "id": "2ac0c984",
   "metadata": {},
   "outputs": [
    {
     "data": {
      "text/plain": [
       "38.59848484848485"
      ]
     },
     "execution_count": 88,
     "metadata": {},
     "output_type": "execute_result"
    }
   ],
   "source": [
    "# Altersdurchschnitt\n",
    "x"
   ]
  },
  {
   "cell_type": "code",
   "execution_count": 89,
   "id": "bf61ef31",
   "metadata": {},
   "outputs": [
    {
     "data": {
      "text/plain": [
       "Nordrhein-Westfalen       78\n",
       "Hessen                    40\n",
       "Berlin                    39\n",
       "Niedersachsen             33\n",
       "Baden-Württemberg         27\n",
       "Brandenburg               27\n",
       "Bayern                    21\n",
       "Bremen                    21\n",
       "Hamburg                   20\n",
       "Nicht in Deutschland      11\n",
       "Schleswig-Holstein         6\n",
       "Mecklenburg-Vorpommern     5\n",
       "Rheinland-Pfalz            4\n",
       "Thüringen                  4\n",
       "Sachsen                    4\n",
       "Sachsen-Anhalt             3\n",
       "Saarland                   2\n",
       "Name: SD03_Bundesland, dtype: int64"
      ]
     },
     "execution_count": 89,
     "metadata": {},
     "output_type": "execute_result"
    }
   ],
   "source": [
    "# Bundesland\n",
    "golf.SD03_Bundesland.value_counts()"
   ]
  },
  {
   "cell_type": "code",
   "execution_count": 90,
   "id": "6514a9ee",
   "metadata": {},
   "outputs": [
    {
     "data": {
      "text/plain": [
       "SD01_Geschlecht  SD04_SpielerIn\n",
       "Divers           SpielerIn           4\n",
       "Männlich         SpielerIn         276\n",
       "Weiblich         SpielerIn         116\n",
       "Name: SD04_SpielerIn, dtype: int64"
      ]
     },
     "execution_count": 90,
     "metadata": {},
     "output_type": "execute_result"
    }
   ],
   "source": [
    "# SpielerInnen nach Geschlecht\n",
    "golf.groupby('SD01_Geschlecht').SD04_SpielerIn.value_counts()"
   ]
  },
  {
   "cell_type": "markdown",
   "id": "0c0920b3",
   "metadata": {},
   "source": [
    "### M002_01_WD01_01 Seit wann spielst du Discgolf?"
   ]
  },
  {
   "cell_type": "code",
   "execution_count": 91,
   "id": "da3d72c3",
   "metadata": {},
   "outputs": [
    {
     "data": {
      "text/plain": [
       "(396, 290)"
      ]
     },
     "execution_count": 91,
     "metadata": {},
     "output_type": "execute_result"
    }
   ],
   "source": [
    "golf.shape"
   ]
  },
  {
   "cell_type": "code",
   "execution_count": 92,
   "id": "ec3e1c64",
   "metadata": {},
   "outputs": [
    {
     "data": {
      "text/plain": [
       "(389, 290)"
      ]
     },
     "execution_count": 92,
     "metadata": {},
     "output_type": "execute_result"
    }
   ],
   "source": [
    "# check missing values (7)\n",
    "golf.M002_01a_WD01_01a.isna().sum(), \n",
    "\n",
    "# zeilen mit fehlenden Werten ausschließen\n",
    "golf_aktiv = golf.dropna(subset=['M002_01a_WD01_01a'])\n",
    "golf_aktiv.shape"
   ]
  },
  {
   "cell_type": "code",
   "execution_count": 93,
   "id": "2682e2e9",
   "metadata": {
    "scrolled": true
   },
   "outputs": [
    {
     "data": {
      "text/plain": [
       "array(['2019', '2014', '2006', '2011', '2010', '2020', '2002', '2021',\n",
       "       '2018', '2008', '2004', '1997', '2015', '2017', '2012', '2013',\n",
       "       '1984', '2016', '2022', '1980', '2009', '2000', '1999', '2007',\n",
       "       '1998', '1988', '2005', '1995', '1987'], dtype=object)"
      ]
     },
     "execution_count": 93,
     "metadata": {},
     "output_type": "execute_result"
    }
   ],
   "source": [
    "# check Antworten und data types: ANGEFANGEN im Jahr\n",
    "golf_aktiv.M002_01a_WD01_01a.unique()"
   ]
  },
  {
   "cell_type": "code",
   "execution_count": 94,
   "id": "dd3c339a",
   "metadata": {
    "scrolled": true
   },
   "outputs": [
    {
     "data": {
      "text/plain": [
       "array([nan, '2018', '2021', '1994', '2015', '2017', '2016', '2022'],\n",
       "      dtype=object)"
      ]
     },
     "execution_count": 94,
     "metadata": {},
     "output_type": "execute_result"
    }
   ],
   "source": [
    "# check Antworten und data types: AUFGEHÖRT im Jahr\n",
    "golf_aktiv.M002_02a_WD01_02a.unique()"
   ]
  },
  {
   "cell_type": "code",
   "execution_count": 95,
   "id": "c6dbaaa1",
   "metadata": {},
   "outputs": [
    {
     "name": "stderr",
     "output_type": "stream",
     "text": [
      "<ipython-input-95-4c879df18999>:3: SettingWithCopyWarning: \n",
      "A value is trying to be set on a copy of a slice from a DataFrame.\n",
      "Try using .loc[row_indexer,col_indexer] = value instead\n",
      "\n",
      "See the caveats in the documentation: https://pandas.pydata.org/pandas-docs/stable/user_guide/indexing.html#returning-a-view-versus-a-copy\n",
      "  golf_aktiv['M002_01a_WD01_01a'] = golf_aktiv['M002_01a_WD01_01a'].fillna(-1)\n",
      "<ipython-input-95-4c879df18999>:4: SettingWithCopyWarning: \n",
      "A value is trying to be set on a copy of a slice from a DataFrame.\n",
      "Try using .loc[row_indexer,col_indexer] = value instead\n",
      "\n",
      "See the caveats in the documentation: https://pandas.pydata.org/pandas-docs/stable/user_guide/indexing.html#returning-a-view-versus-a-copy\n",
      "  golf_aktiv['M002_02a_WD01_02a'] = golf_aktiv['M002_02a_WD01_02a'].fillna(-1)\n",
      "<ipython-input-95-4c879df18999>:7: SettingWithCopyWarning: \n",
      "A value is trying to be set on a copy of a slice from a DataFrame.\n",
      "Try using .loc[row_indexer,col_indexer] = value instead\n",
      "\n",
      "See the caveats in the documentation: https://pandas.pydata.org/pandas-docs/stable/user_guide/indexing.html#returning-a-view-versus-a-copy\n",
      "  golf_aktiv['M002_01a_WD01_01a'] = golf_aktiv['M002_01a_WD01_01a'].astype(int)\n",
      "<ipython-input-95-4c879df18999>:8: SettingWithCopyWarning: \n",
      "A value is trying to be set on a copy of a slice from a DataFrame.\n",
      "Try using .loc[row_indexer,col_indexer] = value instead\n",
      "\n",
      "See the caveats in the documentation: https://pandas.pydata.org/pandas-docs/stable/user_guide/indexing.html#returning-a-view-versus-a-copy\n",
      "  golf_aktiv['M002_02a_WD01_02a'] = golf_aktiv['M002_02a_WD01_02a'].astype(int)\n",
      "/Users/lisa/opt/anaconda3/lib/python3.8/site-packages/pandas/core/frame.py:4524: SettingWithCopyWarning: \n",
      "A value is trying to be set on a copy of a slice from a DataFrame\n",
      "\n",
      "See the caveats in the documentation: https://pandas.pydata.org/pandas-docs/stable/user_guide/indexing.html#returning-a-view-versus-a-copy\n",
      "  return super().replace(\n",
      "<ipython-input-95-4c879df18999>:13: SettingWithCopyWarning: \n",
      "A value is trying to be set on a copy of a slice from a DataFrame.\n",
      "Try using .loc[row_indexer,col_indexer] = value instead\n",
      "\n",
      "See the caveats in the documentation: https://pandas.pydata.org/pandas-docs/stable/user_guide/indexing.html#returning-a-view-versus-a-copy\n",
      "  golf_aktiv['M002_02a_WD01_02a'] = golf_aktiv['M002_02a_WD01_02a'].fillna(2023)\n"
     ]
    },
    {
     "data": {
      "text/plain": [
       "(array([2019, 2014, 2006, 2011, 2010, 2020, 2002, 2021, 2018, 2008, 2004,\n",
       "        1997, 2015, 2017, 2012, 2013, 1984, 2016, 2022, 1980, 2009, 2000,\n",
       "        1999, 2007, 1998, 1988, 2005, 1995, 1987]),\n",
       " array([2023., 2018., 2021., 1994., 2015., 2017., 2016., 2022.]))"
      ]
     },
     "execution_count": 95,
     "metadata": {},
     "output_type": "execute_result"
    }
   ],
   "source": [
    "# object in integers umwandeln\n",
    "# replace NaNs with -1 (sonst error message)\n",
    "golf_aktiv['M002_01a_WD01_01a'] = golf_aktiv['M002_01a_WD01_01a'].fillna(-1)\n",
    "golf_aktiv['M002_02a_WD01_02a'] = golf_aktiv['M002_02a_WD01_02a'].fillna(-1)\n",
    "\n",
    "# convert column to integer type\n",
    "golf_aktiv['M002_01a_WD01_01a'] = golf_aktiv['M002_01a_WD01_01a'].astype(int)\n",
    "golf_aktiv['M002_02a_WD01_02a'] = golf_aktiv['M002_02a_WD01_02a'].astype(int)\n",
    "\n",
    "# -1 in NaN zurück verwandeln\n",
    "golf_aktiv.replace(-1, np.nan, inplace=True)\n",
    "# NaNs bei \"Aufgehört\" in 2023 verwandeln\n",
    "golf_aktiv['M002_02a_WD01_02a'] = golf_aktiv['M002_02a_WD01_02a'].fillna(2023)\n",
    "\n",
    "\n",
    "golf_aktiv['M002_01a_WD01_01a'].unique(), golf_aktiv['M002_02a_WD01_02a'].unique()"
   ]
  },
  {
   "cell_type": "code",
   "execution_count": 96,
   "id": "c8439ce7",
   "metadata": {},
   "outputs": [
    {
     "name": "stderr",
     "output_type": "stream",
     "text": [
      "<ipython-input-96-d52e0a3a1500>:2: SettingWithCopyWarning: \n",
      "A value is trying to be set on a copy of a slice from a DataFrame.\n",
      "Try using .loc[row_indexer,col_indexer] = value instead\n",
      "\n",
      "See the caveats in the documentation: https://pandas.pydata.org/pandas-docs/stable/user_guide/indexing.html#returning-a-view-versus-a-copy\n",
      "  golf_aktiv['aktiveJahre']=golf_aktiv['M002_02a_WD01_02a'] - golf_aktiv['M002_01a_WD01_01a']\n"
     ]
    }
   ],
   "source": [
    "# neue Variable: aktive Discgolf Jahre \n",
    "golf_aktiv['aktiveJahre']=golf_aktiv['M002_02a_WD01_02a'] - golf_aktiv['M002_01a_WD01_01a']"
   ]
  },
  {
   "cell_type": "code",
   "execution_count": 97,
   "id": "0c2dc342",
   "metadata": {},
   "outputs": [
    {
     "data": {
      "text/plain": [
       "6.5886889460154245"
      ]
     },
     "execution_count": 97,
     "metadata": {},
     "output_type": "execute_result"
    }
   ],
   "source": [
    "# Durchschnittliche aktive Discgolf Jahre\n",
    "golf_aktiv['aktiveJahre'].mean()"
   ]
  },
  {
   "cell_type": "code",
   "execution_count": 98,
   "id": "20eec380",
   "metadata": {},
   "outputs": [
    {
     "data": {
      "text/plain": [
       "SD01_Geschlecht\n",
       "Divers      8.000000\n",
       "Männlich    6.835165\n",
       "Weiblich    5.955752\n",
       "Name: aktiveJahre, dtype: float64"
      ]
     },
     "execution_count": 98,
     "metadata": {},
     "output_type": "execute_result"
    }
   ],
   "source": [
    "# Durchschnittliche aktive Discgolf Jahre nach Geschlecht\n",
    "golf_aktiv.groupby('SD01_Geschlecht')['aktiveJahre'].mean()"
   ]
  },
  {
   "cell_type": "markdown",
   "id": "8ad58d1f",
   "metadata": {},
   "source": [
    "### M003_WD02 Bist du / warst du in Discgolf Verein angemeldet?"
   ]
  },
  {
   "cell_type": "code",
   "execution_count": 99,
   "id": "dde071f3",
   "metadata": {},
   "outputs": [
    {
     "data": {
      "text/plain": [
       "0"
      ]
     },
     "execution_count": 99,
     "metadata": {},
     "output_type": "execute_result"
    }
   ],
   "source": [
    "# check fehlende Werte\n",
    "golf.M003_WD02.isna().sum()"
   ]
  },
  {
   "cell_type": "code",
   "execution_count": 100,
   "id": "c27fbf18",
   "metadata": {},
   "outputs": [
    {
     "data": {
      "text/plain": [
       "Ja                                 299\n",
       "Nein                                76\n",
       "Nein, aber ich habe es vor          16\n",
       "Ja, aber bin kein Mitglied mehr      5\n",
       "Name: M003_WD02, dtype: int64"
      ]
     },
     "execution_count": 100,
     "metadata": {},
     "output_type": "execute_result"
    }
   ],
   "source": [
    "umkodierung = {1:'Ja', 2:'Ja, aber bin kein Mitglied mehr', 3:'Nein, aber ich habe es vor', 4:'Nein'}\n",
    "golf.M003_WD02 = golf.M003_WD02.replace(umkodierung)\n",
    "golf.M003_WD02.value_counts()"
   ]
  },
  {
   "cell_type": "markdown",
   "id": "ebfe4260",
   "metadata": {},
   "source": [
    "### M005_WD04 Wie oft spielst du Turniere?"
   ]
  },
  {
   "cell_type": "code",
   "execution_count": 101,
   "id": "85e9a7af",
   "metadata": {},
   "outputs": [],
   "source": [
    "# Umbenennen der Variablen\n",
    "golf = golf.rename(columns={'M005_01a_WD04_01a': 'M005x_Vereins-Weeklies pro Jahr',\n",
    "    'M005_02a_WD04_02a': 'M005x_Spaßturniere pro Jahr',\n",
    "    'M005_03a_WD04_03a': 'M005x_Turniere in Deutschland',\n",
    "    'M005_04a_WD04_04a': 'M005x_Turniere im Ausland',\n",
    "    'M005_05_WD04_05': 'M005x_Keine'})\n"
   ]
  },
  {
   "cell_type": "code",
   "execution_count": 102,
   "id": "0fbb1007",
   "metadata": {},
   "outputs": [
    {
     "name": "stderr",
     "output_type": "stream",
     "text": [
      "<ipython-input-102-5a6a180540ea>:4: SettingWithCopyWarning: \n",
      "A value is trying to be set on a copy of a slice from a DataFrame.\n",
      "Try using .loc[row_indexer,col_indexer] = value instead\n",
      "\n",
      "See the caveats in the documentation: https://pandas.pydata.org/pandas-docs/stable/user_guide/indexing.html#returning-a-view-versus-a-copy\n",
      "  M005_columns['M005x_Keine'] = M005_columns['M005x_Keine'].replace({1: pd.NA, 2: 0})\n"
     ]
    }
   ],
   "source": [
    "# Select columns that start with 'M005x_' OR 'SD01_'\n",
    "M005_columns = golf.filter(regex='^(M005x_|SD01_)')\n",
    "# Umkodieren von 'Keine' (2 = 0, 1= Nan)\n",
    "M005_columns['M005x_Keine'] = M005_columns['M005x_Keine'].replace({1: pd.NA, 2: 0})"
   ]
  },
  {
   "cell_type": "markdown",
   "id": "9d73334e",
   "metadata": {},
   "source": [
    "#### Wer spielt gar keine Turniere?"
   ]
  },
  {
   "cell_type": "code",
   "execution_count": 103,
   "id": "e1d61c20",
   "metadata": {},
   "outputs": [
    {
     "data": {
      "text/plain": [
       "SD01_Geschlecht  M005x_Keine\n",
       "Divers           0               2\n",
       "Männlich         0              64\n",
       "Weiblich         0              50\n",
       "Name: M005x_Keine, dtype: int64"
      ]
     },
     "execution_count": 103,
     "metadata": {},
     "output_type": "execute_result"
    }
   ],
   "source": [
    "M005_columns.groupby('SD01_Geschlecht')['M005x_Keine'].value_counts() #(2 ist zutreffend)"
   ]
  },
  {
   "cell_type": "markdown",
   "id": "46f88acf",
   "metadata": {},
   "source": [
    "#### Wenn jemand Turniere, spielt, wieviel im Durchchnitt pro Jahr?"
   ]
  },
  {
   "cell_type": "code",
   "execution_count": 104,
   "id": "e7cae814",
   "metadata": {},
   "outputs": [
    {
     "data": {
      "text/html": [
       "<div>\n",
       "<style scoped>\n",
       "    .dataframe tbody tr th:only-of-type {\n",
       "        vertical-align: middle;\n",
       "    }\n",
       "\n",
       "    .dataframe tbody tr th {\n",
       "        vertical-align: top;\n",
       "    }\n",
       "\n",
       "    .dataframe thead th {\n",
       "        text-align: right;\n",
       "    }\n",
       "</style>\n",
       "<table border=\"1\" class=\"dataframe\">\n",
       "  <thead>\n",
       "    <tr style=\"text-align: right;\">\n",
       "      <th>SD01_Geschlecht</th>\n",
       "      <th>Divers</th>\n",
       "      <th>Männlich</th>\n",
       "      <th>Weiblich</th>\n",
       "      <th>Mean</th>\n",
       "    </tr>\n",
       "    <tr>\n",
       "      <th>Variable</th>\n",
       "      <th></th>\n",
       "      <th></th>\n",
       "      <th></th>\n",
       "      <th></th>\n",
       "    </tr>\n",
       "  </thead>\n",
       "  <tbody>\n",
       "    <tr>\n",
       "      <th>M005x_Vereins-Weeklies pro Jahr</th>\n",
       "      <td>5.0</td>\n",
       "      <td>8.63</td>\n",
       "      <td>5.35</td>\n",
       "      <td>6.33</td>\n",
       "    </tr>\n",
       "    <tr>\n",
       "      <th>M005x_Turniere in Deutschland</th>\n",
       "      <td>5.5</td>\n",
       "      <td>5.95</td>\n",
       "      <td>4.79</td>\n",
       "      <td>5.41</td>\n",
       "    </tr>\n",
       "    <tr>\n",
       "      <th>M005x_Spaßturniere pro Jahr</th>\n",
       "      <td>6.5</td>\n",
       "      <td>3.73</td>\n",
       "      <td>3.12</td>\n",
       "      <td>4.45</td>\n",
       "    </tr>\n",
       "    <tr>\n",
       "      <th>M005x_Turniere im Ausland</th>\n",
       "      <td>NaN</td>\n",
       "      <td>1.88</td>\n",
       "      <td>2.50</td>\n",
       "      <td>2.19</td>\n",
       "    </tr>\n",
       "  </tbody>\n",
       "</table>\n",
       "</div>"
      ],
      "text/plain": [
       "SD01_Geschlecht                  Divers  Männlich  Weiblich  Mean\n",
       "Variable                                                         \n",
       "M005x_Vereins-Weeklies pro Jahr     5.0      8.63      5.35  6.33\n",
       "M005x_Turniere in Deutschland       5.5      5.95      4.79  5.41\n",
       "M005x_Spaßturniere pro Jahr         6.5      3.73      3.12  4.45\n",
       "M005x_Turniere im Ausland           NaN      1.88      2.50  2.19"
      ]
     },
     "execution_count": 104,
     "metadata": {},
     "output_type": "execute_result"
    }
   ],
   "source": [
    "# Select columns that start with 'M005x_' OR 'SD01_'\n",
    "M005_columns = golf.filter(regex='^(M005x_|SD01_)')\n",
    "\n",
    "# Leere Liste für neue Daten\n",
    "means = []\n",
    "\n",
    "# Loop through each selected column and calculate the mean by gender\n",
    "for col in M005_columns:\n",
    "    if col != 'SD01_Geschlecht': # exclude the 'Geschlecht' column from the calculation\n",
    "        # Groupby-Methode anwenden und nach der Spalte 'Geschlecht' gruppieren\n",
    "        groupby_gender = golf.groupby('SD01_Geschlecht')\n",
    "        \n",
    "        # Mittelwert der Werte in der Spalte 'col' pro Geschlecht berechnen\n",
    "        mean_by_gender = groupby_gender.apply(lambda x: (x[col]).mean()).round(2)\n",
    "        \n",
    "        # Neue Daten als Dictionary speichern und zur Liste 'means' hinzufügen\n",
    "        for gender in mean_by_gender.index:\n",
    "            new_row = {'Variable': col, 'SD01_Geschlecht': gender, 'mean': mean_by_gender[gender]}\n",
    "            means.append(new_row)\n",
    "\n",
    "# Liste in Dataframe umwandeln \n",
    "golf_M005 = pd.DataFrame(means)\n",
    "golf_M005\n",
    "\n",
    "# sortieren und summieren\n",
    "golf_M005_pivot = golf_M005.pivot(index='Variable', columns='SD01_Geschlecht', values='mean')\n",
    "golf_M005_pivot['Mean'] = golf_M005_pivot.mean(axis=1).round(2)\n",
    "golf_M005_pivot = golf_M005_pivot.sort_values(by='Mean', ascending=False)\n",
    "golf_M005_pivot\n",
    "\n",
    "#drop last row\n",
    "golf_M005_pivot = golf_M005_pivot.drop(golf_M005_pivot.index[-1])\n",
    "golf_M005_pivot"
   ]
  },
  {
   "cell_type": "markdown",
   "id": "6876507b",
   "metadata": {},
   "source": [
    "### M001_WD06 Inwiefern engagierst du dich für den Sport?"
   ]
  },
  {
   "cell_type": "code",
   "execution_count": 105,
   "id": "e685ad60",
   "metadata": {},
   "outputs": [],
   "source": [
    "# Umbenennen der Variablen\n",
    "golf = golf.rename(columns={'M001_01_WD06_01': 'M001x_Organisation von Turnieren / Spielen',\n",
    "'M001_02_WD06_02': 'M001x_Übernahme eines Amtes',\n",
    "'M001_03_WD06_03': 'M001x_Engagement in Verein / Community',\n",
    "'M001_04_WD06_04': 'M001x_Neulinge einführen',\n",
    "'M001_05_WD06_05': 'M001x_Sonstiges',\n",
    "'M001_06_WD06_06': 'M001x_Habe mich bisher nicht engagiert'})"
   ]
  },
  {
   "cell_type": "markdown",
   "id": "ebb46871",
   "metadata": {},
   "source": [
    "#### Zutreffendes nach Geschlechtern"
   ]
  },
  {
   "cell_type": "code",
   "execution_count": 106,
   "id": "992633f5",
   "metadata": {},
   "outputs": [
    {
     "data": {
      "text/html": [
       "<div>\n",
       "<style scoped>\n",
       "    .dataframe tbody tr th:only-of-type {\n",
       "        vertical-align: middle;\n",
       "    }\n",
       "\n",
       "    .dataframe tbody tr th {\n",
       "        vertical-align: top;\n",
       "    }\n",
       "\n",
       "    .dataframe thead th {\n",
       "        text-align: right;\n",
       "    }\n",
       "</style>\n",
       "<table border=\"1\" class=\"dataframe\">\n",
       "  <thead>\n",
       "    <tr style=\"text-align: right;\">\n",
       "      <th>SD01_Geschlecht</th>\n",
       "      <th>Divers</th>\n",
       "      <th>Männlich</th>\n",
       "      <th>Weiblich</th>\n",
       "      <th>Summe</th>\n",
       "    </tr>\n",
       "    <tr>\n",
       "      <th>Variable</th>\n",
       "      <th></th>\n",
       "      <th></th>\n",
       "      <th></th>\n",
       "      <th></th>\n",
       "    </tr>\n",
       "  </thead>\n",
       "  <tbody>\n",
       "    <tr>\n",
       "      <th>M001x_Engagement in Verein / Community</th>\n",
       "      <td>0</td>\n",
       "      <td>146</td>\n",
       "      <td>39</td>\n",
       "      <td>185</td>\n",
       "    </tr>\n",
       "    <tr>\n",
       "      <th>M001x_Neulinge einführen</th>\n",
       "      <td>0</td>\n",
       "      <td>129</td>\n",
       "      <td>22</td>\n",
       "      <td>151</td>\n",
       "    </tr>\n",
       "    <tr>\n",
       "      <th>M001x_Organisation von Turnieren / Spielen</th>\n",
       "      <td>0</td>\n",
       "      <td>89</td>\n",
       "      <td>24</td>\n",
       "      <td>113</td>\n",
       "    </tr>\n",
       "    <tr>\n",
       "      <th>M001x_Habe mich bisher nicht engagiert</th>\n",
       "      <td>4</td>\n",
       "      <td>53</td>\n",
       "      <td>42</td>\n",
       "      <td>99</td>\n",
       "    </tr>\n",
       "    <tr>\n",
       "      <th>M001x_Übernahme eines Amtes</th>\n",
       "      <td>0</td>\n",
       "      <td>67</td>\n",
       "      <td>19</td>\n",
       "      <td>86</td>\n",
       "    </tr>\n",
       "    <tr>\n",
       "      <th>M001x_Sonstiges</th>\n",
       "      <td>0</td>\n",
       "      <td>39</td>\n",
       "      <td>18</td>\n",
       "      <td>57</td>\n",
       "    </tr>\n",
       "  </tbody>\n",
       "</table>\n",
       "</div>"
      ],
      "text/plain": [
       "SD01_Geschlecht                             Divers  Männlich  Weiblich  Summe\n",
       "Variable                                                                     \n",
       "M001x_Engagement in Verein / Community           0       146        39    185\n",
       "M001x_Neulinge einführen                         0       129        22    151\n",
       "M001x_Organisation von Turnieren / Spielen       0        89        24    113\n",
       "M001x_Habe mich bisher nicht engagiert           4        53        42     99\n",
       "M001x_Übernahme eines Amtes                      0        67        19     86\n",
       "M001x_Sonstiges                                  0        39        18     57"
      ]
     },
     "execution_count": 106,
     "metadata": {},
     "output_type": "execute_result"
    }
   ],
   "source": [
    "# Define the value you want to count (2 = ausgewählt)\n",
    "value_to_count = 2\n",
    "\n",
    "# Select columns that start with 'M027x_' OR 'SD01_'\n",
    "M001_columns = golf.filter(regex='^(M001x_|SD01_)')\n",
    "\n",
    "# Leere Liste für neue Daten\n",
    "counts = []\n",
    "\n",
    "# Loop through each selected column and count the frequencies of the value 2\n",
    "for col in M001_columns:\n",
    "    # Groupby-Methode anwenden und nach der Spalte 'Geschlecht' gruppieren\n",
    "    groupby_gender = golf.groupby('SD01_Geschlecht')\n",
    "    \n",
    "    # Anzahl der Vorkommen von 'value_to_count' in der Spalte 'col' pro Geschlecht zählen\n",
    "    count_by_gender = groupby_gender.apply(lambda x: (x[col] == value_to_count).sum())\n",
    "    \n",
    "    # Neue Daten als Dictionary speichern und zur Liste 'counts' hinzufügen\n",
    "    for gender in count_by_gender.index:\n",
    "        new_row = {'Variable': col, 'SD01_Geschlecht': gender, 'count': count_by_gender[gender]}\n",
    "        counts.append(new_row)\n",
    "\n",
    "# Liste in Dataframe umwandeln \n",
    "golf_M001 = pd.DataFrame(counts)\n",
    "\n",
    "# sortieren und summieren\n",
    "golf_M001_pivot = golf_M001.pivot(index='Variable', columns='SD01_Geschlecht', values='count')\n",
    "golf_M001_pivot['Summe'] = golf_M001_pivot.sum(axis=1)\n",
    "golf_M001_pivot = golf_M001_pivot.sort_values(by='Summe', ascending=False)\n",
    "golf_M001_pivot\n",
    "\n",
    "#drop last row\n",
    "golf_M001_pivot = golf_M001_pivot.drop(golf_M001_pivot.index[-1])\n",
    "golf_M001_pivot"
   ]
  },
  {
   "cell_type": "markdown",
   "id": "c9abdf4f",
   "metadata": {},
   "source": [
    "#### Wieviel Prozent der Männer / Frauen / Diverse haben Variable X angekreut?"
   ]
  },
  {
   "cell_type": "code",
   "execution_count": 107,
   "id": "f051a12e",
   "metadata": {},
   "outputs": [
    {
     "data": {
      "text/html": [
       "<div>\n",
       "<style scoped>\n",
       "    .dataframe tbody tr th:only-of-type {\n",
       "        vertical-align: middle;\n",
       "    }\n",
       "\n",
       "    .dataframe tbody tr th {\n",
       "        vertical-align: top;\n",
       "    }\n",
       "\n",
       "    .dataframe thead th {\n",
       "        text-align: right;\n",
       "    }\n",
       "</style>\n",
       "<table border=\"1\" class=\"dataframe\">\n",
       "  <thead>\n",
       "    <tr style=\"text-align: right;\">\n",
       "      <th>SD01_Geschlecht</th>\n",
       "      <th>Divers</th>\n",
       "      <th>Männlich</th>\n",
       "      <th>Weiblich</th>\n",
       "      <th>Summe</th>\n",
       "    </tr>\n",
       "    <tr>\n",
       "      <th>Variable</th>\n",
       "      <th></th>\n",
       "      <th></th>\n",
       "      <th></th>\n",
       "      <th></th>\n",
       "    </tr>\n",
       "  </thead>\n",
       "  <tbody>\n",
       "    <tr>\n",
       "      <th>M001x_Engagement in Verein / Community</th>\n",
       "      <td>0.0</td>\n",
       "      <td>52.9</td>\n",
       "      <td>33.6</td>\n",
       "      <td>46.7</td>\n",
       "    </tr>\n",
       "    <tr>\n",
       "      <th>M001x_Neulinge einführen</th>\n",
       "      <td>0.0</td>\n",
       "      <td>46.7</td>\n",
       "      <td>19.0</td>\n",
       "      <td>38.1</td>\n",
       "    </tr>\n",
       "    <tr>\n",
       "      <th>M001x_Organisation von Turnieren / Spielen</th>\n",
       "      <td>0.0</td>\n",
       "      <td>32.2</td>\n",
       "      <td>20.7</td>\n",
       "      <td>28.5</td>\n",
       "    </tr>\n",
       "    <tr>\n",
       "      <th>M001x_Habe mich bisher nicht engagiert</th>\n",
       "      <td>100.0</td>\n",
       "      <td>19.2</td>\n",
       "      <td>36.2</td>\n",
       "      <td>25.0</td>\n",
       "    </tr>\n",
       "    <tr>\n",
       "      <th>M001x_Übernahme eines Amtes</th>\n",
       "      <td>0.0</td>\n",
       "      <td>24.3</td>\n",
       "      <td>16.4</td>\n",
       "      <td>21.7</td>\n",
       "    </tr>\n",
       "    <tr>\n",
       "      <th>M001x_Sonstiges</th>\n",
       "      <td>0.0</td>\n",
       "      <td>14.1</td>\n",
       "      <td>15.5</td>\n",
       "      <td>14.4</td>\n",
       "    </tr>\n",
       "  </tbody>\n",
       "</table>\n",
       "</div>"
      ],
      "text/plain": [
       "SD01_Geschlecht                             Divers  Männlich  Weiblich  Summe\n",
       "Variable                                                                     \n",
       "M001x_Engagement in Verein / Community         0.0      52.9      33.6   46.7\n",
       "M001x_Neulinge einführen                       0.0      46.7      19.0   38.1\n",
       "M001x_Organisation von Turnieren / Spielen     0.0      32.2      20.7   28.5\n",
       "M001x_Habe mich bisher nicht engagiert       100.0      19.2      36.2   25.0\n",
       "M001x_Übernahme eines Amtes                    0.0      24.3      16.4   21.7\n",
       "M001x_Sonstiges                                0.0      14.1      15.5   14.4"
      ]
     },
     "execution_count": 107,
     "metadata": {},
     "output_type": "execute_result"
    }
   ],
   "source": [
    "divisoren = [4, 276, 116, 396]\n",
    "golf_M001_pct = golf_M001_pivot.div(divisoren) * 100\n",
    "golf_M001_pct = golf_M001_pct.round(1)\n",
    "golf_M001_pct"
   ]
  },
  {
   "cell_type": "markdown",
   "id": "55bd913a",
   "metadata": {},
   "source": [
    "### M007_WD07 Wie bist du auf Discgolf aufmerksam geworden?"
   ]
  },
  {
   "cell_type": "code",
   "execution_count": 108,
   "id": "0a39fc11",
   "metadata": {},
   "outputs": [],
   "source": [
    "# Umbenennen der Variablen\n",
    "golf = golf.rename(columns={'M007_01_WD07_01': 'Freunde/Familie',\n",
    "    'M007x_02_WD07_02': 'M007x_PartnerIn',\n",
    "    'M007_03_WD07_03': 'M007x_Discgolf-Event',\n",
    "    'M007_04_WD07_04': 'M007x_Beobachtung',\n",
    "    'M007_05_WD07_05': 'M007x_Lokalpresse',\n",
    "    'M007_06_WD07_06': 'M007x_Website',\n",
    "    'M007_07_WD07_07': 'M007x_Soziale Medien',\n",
    "    'M007_08_WD07_08': 'M007x_Flyer',\n",
    "    'M007_09_WD07_09': 'M007x_Sonstiges'})"
   ]
  },
  {
   "cell_type": "markdown",
   "id": "db892c3e",
   "metadata": {},
   "source": [
    "#### Zutreffendes nach Geschlechtern"
   ]
  },
  {
   "cell_type": "code",
   "execution_count": 109,
   "id": "760ba7dd",
   "metadata": {},
   "outputs": [
    {
     "data": {
      "text/html": [
       "<div>\n",
       "<style scoped>\n",
       "    .dataframe tbody tr th:only-of-type {\n",
       "        vertical-align: middle;\n",
       "    }\n",
       "\n",
       "    .dataframe tbody tr th {\n",
       "        vertical-align: top;\n",
       "    }\n",
       "\n",
       "    .dataframe thead th {\n",
       "        text-align: right;\n",
       "    }\n",
       "</style>\n",
       "<table border=\"1\" class=\"dataframe\">\n",
       "  <thead>\n",
       "    <tr style=\"text-align: right;\">\n",
       "      <th>SD01_Geschlecht</th>\n",
       "      <th>Divers</th>\n",
       "      <th>Männlich</th>\n",
       "      <th>Weiblich</th>\n",
       "      <th>Summe</th>\n",
       "    </tr>\n",
       "    <tr>\n",
       "      <th>Variable</th>\n",
       "      <th></th>\n",
       "      <th></th>\n",
       "      <th></th>\n",
       "      <th></th>\n",
       "    </tr>\n",
       "  </thead>\n",
       "  <tbody>\n",
       "    <tr>\n",
       "      <th>M007x_Sonstiges</th>\n",
       "      <td>0</td>\n",
       "      <td>80</td>\n",
       "      <td>24</td>\n",
       "      <td>104</td>\n",
       "    </tr>\n",
       "    <tr>\n",
       "      <th>M007x_Beobachtung</th>\n",
       "      <td>0</td>\n",
       "      <td>40</td>\n",
       "      <td>10</td>\n",
       "      <td>50</td>\n",
       "    </tr>\n",
       "    <tr>\n",
       "      <th>M007x_Soziale Medien</th>\n",
       "      <td>0</td>\n",
       "      <td>38</td>\n",
       "      <td>5</td>\n",
       "      <td>43</td>\n",
       "    </tr>\n",
       "    <tr>\n",
       "      <th>M007x_Discgolf-Event</th>\n",
       "      <td>2</td>\n",
       "      <td>12</td>\n",
       "      <td>4</td>\n",
       "      <td>18</td>\n",
       "    </tr>\n",
       "    <tr>\n",
       "      <th>M007x_Website</th>\n",
       "      <td>0</td>\n",
       "      <td>6</td>\n",
       "      <td>4</td>\n",
       "      <td>10</td>\n",
       "    </tr>\n",
       "    <tr>\n",
       "      <th>M007x_Lokalpresse</th>\n",
       "      <td>0</td>\n",
       "      <td>9</td>\n",
       "      <td>0</td>\n",
       "      <td>9</td>\n",
       "    </tr>\n",
       "    <tr>\n",
       "      <th>M007x_Flyer</th>\n",
       "      <td>0</td>\n",
       "      <td>1</td>\n",
       "      <td>1</td>\n",
       "      <td>2</td>\n",
       "    </tr>\n",
       "  </tbody>\n",
       "</table>\n",
       "</div>"
      ],
      "text/plain": [
       "SD01_Geschlecht       Divers  Männlich  Weiblich  Summe\n",
       "Variable                                               \n",
       "M007x_Sonstiges            0        80        24    104\n",
       "M007x_Beobachtung          0        40        10     50\n",
       "M007x_Soziale Medien       0        38         5     43\n",
       "M007x_Discgolf-Event       2        12         4     18\n",
       "M007x_Website              0         6         4     10\n",
       "M007x_Lokalpresse          0         9         0      9\n",
       "M007x_Flyer                0         1         1      2"
      ]
     },
     "execution_count": 109,
     "metadata": {},
     "output_type": "execute_result"
    }
   ],
   "source": [
    "# Define the value you want to count (2 = ausgewählt)\n",
    "value_to_count = 2\n",
    "\n",
    "# Select columns that start with 'M027x_' OR 'SD01_'\n",
    "M007_columns = golf.filter(regex='^(M007x_|SD01_)')\n",
    "\n",
    "# Leere Liste für neue Daten\n",
    "counts = []\n",
    "\n",
    "# Loop through each selected column and count the frequencies of the value 2\n",
    "for col in M007_columns:\n",
    "    # Groupby-Methode anwenden und nach der Spalte 'Geschlecht' gruppieren\n",
    "    groupby_gender = golf.groupby('SD01_Geschlecht')\n",
    "    \n",
    "    # Anzahl der Vorkommen von 'value_to_count' in der Spalte 'col' pro Geschlecht zählen\n",
    "    count_by_gender = groupby_gender.apply(lambda x: (x[col] == value_to_count).sum())\n",
    "    \n",
    "    # Neue Daten als Dictionary speichern und zur Liste 'counts' hinzufügen\n",
    "    for gender in count_by_gender.index:\n",
    "        new_row = {'Variable': col, 'SD01_Geschlecht': gender, 'count': count_by_gender[gender]}\n",
    "        counts.append(new_row)\n",
    "\n",
    "# Liste in Dataframe umwandeln \n",
    "golf_M007 = pd.DataFrame(counts)\n",
    "\n",
    "# sortieren und summieren\n",
    "golf_M007_pivot = golf_M007.pivot(index='Variable', columns='SD01_Geschlecht', values='count')\n",
    "golf_M007_pivot['Summe'] = golf_M007_pivot.sum(axis=1)\n",
    "golf_M007_pivot = golf_M007_pivot.sort_values(by='Summe', ascending=False)\n",
    "golf_M007_pivot\n",
    "\n",
    "#drop last row\n",
    "golf_M007_pivot = golf_M007_pivot.drop(golf_M007_pivot.index[-1])\n",
    "golf_M007_pivot"
   ]
  },
  {
   "cell_type": "markdown",
   "id": "c6aa3bd7",
   "metadata": {},
   "source": [
    "#### Wieviel Prozent der Männer / Frauen / Diverse haben Variable X angekreut?"
   ]
  },
  {
   "cell_type": "code",
   "execution_count": 110,
   "id": "bbdddb61",
   "metadata": {},
   "outputs": [
    {
     "data": {
      "text/html": [
       "<div>\n",
       "<style scoped>\n",
       "    .dataframe tbody tr th:only-of-type {\n",
       "        vertical-align: middle;\n",
       "    }\n",
       "\n",
       "    .dataframe tbody tr th {\n",
       "        vertical-align: top;\n",
       "    }\n",
       "\n",
       "    .dataframe thead th {\n",
       "        text-align: right;\n",
       "    }\n",
       "</style>\n",
       "<table border=\"1\" class=\"dataframe\">\n",
       "  <thead>\n",
       "    <tr style=\"text-align: right;\">\n",
       "      <th>SD01_Geschlecht</th>\n",
       "      <th>Divers</th>\n",
       "      <th>Männlich</th>\n",
       "      <th>Weiblich</th>\n",
       "      <th>Summe</th>\n",
       "    </tr>\n",
       "    <tr>\n",
       "      <th>Variable</th>\n",
       "      <th></th>\n",
       "      <th></th>\n",
       "      <th></th>\n",
       "      <th></th>\n",
       "    </tr>\n",
       "  </thead>\n",
       "  <tbody>\n",
       "    <tr>\n",
       "      <th>M007x_Sonstiges</th>\n",
       "      <td>0.0</td>\n",
       "      <td>29.0</td>\n",
       "      <td>20.7</td>\n",
       "      <td>26.3</td>\n",
       "    </tr>\n",
       "    <tr>\n",
       "      <th>M007x_Beobachtung</th>\n",
       "      <td>0.0</td>\n",
       "      <td>14.5</td>\n",
       "      <td>8.6</td>\n",
       "      <td>12.6</td>\n",
       "    </tr>\n",
       "    <tr>\n",
       "      <th>M007x_Soziale Medien</th>\n",
       "      <td>0.0</td>\n",
       "      <td>13.8</td>\n",
       "      <td>4.3</td>\n",
       "      <td>10.9</td>\n",
       "    </tr>\n",
       "    <tr>\n",
       "      <th>M007x_Discgolf-Event</th>\n",
       "      <td>50.0</td>\n",
       "      <td>4.3</td>\n",
       "      <td>3.4</td>\n",
       "      <td>4.5</td>\n",
       "    </tr>\n",
       "    <tr>\n",
       "      <th>M007x_Website</th>\n",
       "      <td>0.0</td>\n",
       "      <td>2.2</td>\n",
       "      <td>3.4</td>\n",
       "      <td>2.5</td>\n",
       "    </tr>\n",
       "    <tr>\n",
       "      <th>M007x_Lokalpresse</th>\n",
       "      <td>0.0</td>\n",
       "      <td>3.3</td>\n",
       "      <td>0.0</td>\n",
       "      <td>2.3</td>\n",
       "    </tr>\n",
       "    <tr>\n",
       "      <th>M007x_Flyer</th>\n",
       "      <td>0.0</td>\n",
       "      <td>0.4</td>\n",
       "      <td>0.9</td>\n",
       "      <td>0.5</td>\n",
       "    </tr>\n",
       "  </tbody>\n",
       "</table>\n",
       "</div>"
      ],
      "text/plain": [
       "SD01_Geschlecht       Divers  Männlich  Weiblich  Summe\n",
       "Variable                                               \n",
       "M007x_Sonstiges          0.0      29.0      20.7   26.3\n",
       "M007x_Beobachtung        0.0      14.5       8.6   12.6\n",
       "M007x_Soziale Medien     0.0      13.8       4.3   10.9\n",
       "M007x_Discgolf-Event    50.0       4.3       3.4    4.5\n",
       "M007x_Website            0.0       2.2       3.4    2.5\n",
       "M007x_Lokalpresse        0.0       3.3       0.0    2.3\n",
       "M007x_Flyer              0.0       0.4       0.9    0.5"
      ]
     },
     "execution_count": 110,
     "metadata": {},
     "output_type": "execute_result"
    }
   ],
   "source": [
    "divisoren = [4, 276, 116, 396]\n",
    "golf_M007_pct = golf_M007_pivot.div(divisoren) * 100\n",
    "golf_M007_pct = golf_M007_pct.round(1)\n",
    "golf_M007_pct"
   ]
  },
  {
   "cell_type": "markdown",
   "id": "6521aac7",
   "metadata": {},
   "source": [
    "#### Sonstige Angaben"
   ]
  },
  {
   "cell_type": "code",
   "execution_count": 111,
   "id": "d0b95ecb",
   "metadata": {},
   "outputs": [
    {
     "data": {
      "text/plain": [
       "Ultimate                                                                                                                                                                             4\n",
       "Playstation                                                                                                                                                                          2\n",
       "Ultimate Frisbee                                                                                                                                                                     2\n",
       "langjähriger Freestyler - Discgolf als alternativer Frisbee-Sport ausprobiert                                                                                                        1\n",
       "Selbermachen                                                                                                                                                                         1\n",
       "andere Ultimatespieler*innen                                                                                                                                                         1\n",
       "Hochschulsport                                                                                                                                                                       1\n",
       "Mitspieler beim Ultimate                                                                                                                                                             1\n",
       "Korb im Park gesehen                                                                                                                                                                 1\n",
       "über Ultimate Frisbee Trainer der Kinder                                                                                                                                             1\n",
       "Teamkameraden im Ultimate haben mich zum golfen mitgenommen                                                                                                                          1\n",
       "Es wurde ein Park vor der Haustür gebaut                                                                                                                                             1\n",
       "Wir haben im Urlaub in Frankreich ein Parcours entdeckt                                                                                                                              1\n",
       "anno 1996 : alternatives Wurftraining der Gummjbärchen in Schlosspark zu Karlsruhe                                                                                                   1\n",
       "PlayStation                                                                                                                                                                          1\n",
       "0                                                                                                                                                                                    1\n",
       "Spielkonsole                                                                                                                                                                         1\n",
       "Zufällig von \"Frisbeegolf\" gehört                                                                                                                                                    1\n",
       "Habe Discgolf-Körbe gesehen                                                                                                                                                          1\n",
       "man hat eine Scheibe in der Hand                                                                                                                                                     1\n",
       "Über Ultimate Frisbee                                                                                                                                                                1\n",
       "Teamkollegen vom Ultimate                                                                                                                                                            1\n",
       "flugscheibennähe durch Hobby ultimate                                                                                                                                                1\n",
       "Radek Scharte YouTube                                                                                                                                                                1\n",
       "Ps3                                                                                                                                                                                  1\n",
       "Ultimate ... Das sollte eine Standard Antwortmöglichkeit sein :)                                                                                                                     1\n",
       "Als ich Anfing waren wir Frisbee Spieler...                                                                                                                                          1\n",
       "DFV Trainerlehrgang                                                                                                                                                                  1\n",
       "auf Playstation gesehen                                                                                                                                                              1\n",
       "Ultimate-Community                                                                                                                                                                   1\n",
       "Ich habe einen Kurs gesehen                                                                                                                                                          1\n",
       "2022 über die DM in Freiburg in der lokalen Zeitung gelesen                                                                                                                          1\n",
       "Jemand ddn ich gedatet habe aber nicht mehr date                                                                                                                                     1\n",
       "Google Suche und Homepage des Vereins                                                                                                                                                1\n",
       "anderer scheibensport                                                                                                                                                                1\n",
       "Drachenfest in Potsdam mit Ultimate und Discgolf                                                                                                                                     1\n",
       "Meinen Vater                                                                                                                                                                         1\n",
       "youtube                                                                                                                                                                              1\n",
       "ultimate                                                                                                                                                                             1\n",
       "Habe in Finnland einmal gespielt ohne zu wissen was es ist und war schon immer Frissbee begeistert                                                                                   1\n",
       "Nintendo Wii                                                                                                                                                                         1\n",
       "Durch alte Bekannte                                                                                                                                                                  1\n",
       "Übers ultimate                                                                                                                                                                       1\n",
       "Ein Discgolf Game auf einer Spielkonsole                                                                                                                                             1\n",
       "Kurseröffnung                                                                                                                                                                        1\n",
       "Hessentag 2017                                                                                                                                                                       1\n",
       "Jemand hat mir davon erzählt, dann selber ausprobiert.                                                                                                                               1\n",
       "Habe Discgolf Körbe stehen sehen, informiert was das ist, dann mit Frisbee Scheiben angefangen                                                                                       1\n",
       "Parcours im Ort                                                                                                                                                                      1\n",
       "Schild für Discgolf in Kellenhusen                                                                                                                                                   1\n",
       "Ich spiele seit 12 Ultimate und da hat sich das mit Discgolf dann irgendwann ergeben                                                                                                 1\n",
       "war ultimate spieler                                                                                                                                                                 1\n",
       "YouTube                                                                                                                                                                              1\n",
       "ich spiele Ultimate und einige Teammitglieder spielen auch Discgolf                                                                                                                  1\n",
       "Arbeitskollegen                                                                                                                                                                      1\n",
       "Durch Zufall in Verbindung mit Tagespresse                                                                                                                                           1\n",
       "Studium in Potsdam 2010! Regelmäßiges Spiel aber erst seit 2019                                                                                                                      1\n",
       "Neugierde beim zufälligen Entdecken von Körben                                                                                                                                       1\n",
       "Playstation 3 & TV                                                                                                                                                                   1\n",
       "über meinen ehemaligen Ultimate Frisbee Verein                                                                                                                                       1\n",
       "Internet                                                                                                                                                                             1\n",
       "komme vom Ultimate                                                                                                                                                                   1\n",
       "das weiß ich nicht mehr. Müsste so 1997 gewesen sein                                                                                                                                 1\n",
       "Corona - Kontaktbeschränkung - Ultimate-Golfer => DiscGolf                                                                                                                           1\n",
       "Sport im Park, wo man den Sport ausprobieren konnte                                                                                                                                  1\n",
       "Körbe gesehen,  aus Spaß mit 0815 Scheiben eine Weile,  bis wir uns ein Anfängerset kauften                                                                                          1\n",
       "Ein DiscGolfer kam zu unserem Ultimate Training und hat uns dann eingeladen auch mal DiscGolf zu probieren                                                                           1\n",
       "über Vereinsmitglieder                                                                                                                                                               1\n",
       "Meine Partnerin hat beim spazieren gehen eine Scheibe gefunden und mir davon berichtet. (Scheibe hat sie im nächsten Korb gelassen :))                                               1\n",
       "Im Park gesehen                                                                                                                                                                      1\n",
       "Bin an mehreren Plätzen vorbei gelaufen                                                                                                                                              1\n",
       "Ultimate Background                                                                                                                                                                  1\n",
       "Habe früher Ultimate gespielt, verletzungsbedingt aufgehört, bin dann durch Zufall bei der Parcours Eröffnung vorbei gekommen, habe aber auch dann erst 2 Jahre später angefangen    1\n",
       "Ich habe Ultimate gespielt                                                                                                                                                           1\n",
       "DFV und Frisbeesport                                                                                                                                                                 1\n",
       "Ausgeprägtes Allgemeinwissen                                                                                                                                                         1\n",
       "Kontakt zu eine Discgolfer, der ab und zu ins Ultimate Frisbee Training kam                                                                                                          1\n",
       "Habe lange Ultimate gespielt, mit Corona hat es dann mit Discgolf begonnen                                                                                                           1\n",
       "Anlage direkt vor der Haustür                                                                                                                                                        1\n",
       "körbe die da rumstehen                                                                                                                                                               1\n",
       "Körbe im Park                                                                                                                                                                        1\n",
       "Erst Ultimate gespielt, da kennt man die anderen Disc-Sportarten einfach.                                                                                                            1\n",
       "Vereinsfest von einem anderen Verein                                                                                                                                                 1\n",
       "Körbe im Wald                                                                                                                                                                        1\n",
       "Vom DDC durch Corona zum disc Golf \"gezwunge\" wordenn                                                                                                                                1\n",
       "über Ultimate Frisbee                                                                                                                                                                1\n",
       "Ich habe den Bau der Anlage mitbekommen und dann Leute dort spielen sehen.                                                                                                           1\n",
       "Über freestyle frisbee                                                                                                                                                               1\n",
       "Habe Mitte der 80er selber angefangen auf Bäume als Ziele geworfen, seit Ende der 90er sind mir die DiscGolfKörbe bekannt                                                            1\n",
       "Spiel auf PlayStation                                                                                                                                                                1\n",
       "Parcours in meiner stadt                                                                                                                                                             1\n",
       "über Discsport allgemein                                                                                                                                                             1\n",
       "Komme vom ultimate,bin durch lockdown gewechselt...                                                                                                                                  1\n",
       "Körbe im Psrk gesehen und recherchiert                                                                                                                                               1\n",
       "Kurs selbst entdeckt                                                                                                                                                                 1\n",
       "Im Frankreich Urlaub über einen Disc Golf Parcour unweit der Ferienwohnung \"gestolpert\"                                                                                              1\n",
       "im Urlaub gab es vor Ort einen Parcour und ich habe es mit meiner Ultimate-Scheibe einfach mal ausprobiert                                                                           1\n",
       "Ultimate Frisbee Comunity                                                                                                                                                            1\n",
       "Arbeitskollege                                                                                                                                                                       1\n",
       "Name: M007_09a_WD07_09a, dtype: int64"
      ]
     },
     "execution_count": 111,
     "metadata": {},
     "output_type": "execute_result"
    }
   ],
   "source": [
    "# alle Ergebnisse anzeigen\n",
    "pd.set_option(\"display.max_rows\", None)\n",
    "golf['M007_09a_WD07_09a'].value_counts()"
   ]
  },
  {
   "cell_type": "markdown",
   "id": "ca21a85e",
   "metadata": {},
   "source": [
    "### M008_WD08 Warum bist du dabei geblieben?"
   ]
  },
  {
   "cell_type": "code",
   "execution_count": 112,
   "id": "5ea6af06",
   "metadata": {},
   "outputs": [],
   "source": [
    "# Umbenennen der Variablen\n",
    "golf = golf.rename(columns={'M008_01_WD08_01':'M008x_Bewegung an der frischen Luft', \n",
    "                            'M008_02_WD08_02':'M008x_Faszination für den Flug der Scheiben',\n",
    "                            'M008_03_WD08_03':'M008x_schnelle Lernkurve hat Ehrgeiz geweckt',\n",
    "                            'M008_04_WD08_04':'M008x_nette Menschen kennen gelernt',\n",
    "                            'M008_05_WD08_05':'M008x_gemeinsames Hobby mit PartnerIn',\n",
    "                            'M008_06_WD08_06':'M008x_gemeinsames Hobby mit Familie/Freunde',\n",
    "                            'M008_07_WD08_07':'M008x_zeitliche Flexibilität',\n",
    "                            'M008_08_WD08_08':'M008x_geringe Kosten',\n",
    "                            'M008_09_WD08_09':'M008x_Lust auf neue Herausforderung',\n",
    "                            'M008_10_WD08_10':'M008x_vergleichsweise geringe körperliche Belastung',\n",
    "                            'M008_11_WD08_11':'M008x_Sonstiges'})"
   ]
  },
  {
   "cell_type": "markdown",
   "id": "19afa4cc",
   "metadata": {},
   "source": [
    "#### Zutreffendes nach Geschlechtern"
   ]
  },
  {
   "cell_type": "code",
   "execution_count": 113,
   "id": "3a38507a",
   "metadata": {},
   "outputs": [
    {
     "data": {
      "text/html": [
       "<div>\n",
       "<style scoped>\n",
       "    .dataframe tbody tr th:only-of-type {\n",
       "        vertical-align: middle;\n",
       "    }\n",
       "\n",
       "    .dataframe tbody tr th {\n",
       "        vertical-align: top;\n",
       "    }\n",
       "\n",
       "    .dataframe thead th {\n",
       "        text-align: right;\n",
       "    }\n",
       "</style>\n",
       "<table border=\"1\" class=\"dataframe\">\n",
       "  <thead>\n",
       "    <tr style=\"text-align: right;\">\n",
       "      <th>SD01_Geschlecht</th>\n",
       "      <th>Divers</th>\n",
       "      <th>Männlich</th>\n",
       "      <th>Weiblich</th>\n",
       "      <th>Summe</th>\n",
       "    </tr>\n",
       "    <tr>\n",
       "      <th>Variable</th>\n",
       "      <th></th>\n",
       "      <th></th>\n",
       "      <th></th>\n",
       "      <th></th>\n",
       "    </tr>\n",
       "  </thead>\n",
       "  <tbody>\n",
       "    <tr>\n",
       "      <th>M008x_Bewegung an der frischen Luft</th>\n",
       "      <td>1</td>\n",
       "      <td>233</td>\n",
       "      <td>100</td>\n",
       "      <td>334</td>\n",
       "    </tr>\n",
       "    <tr>\n",
       "      <th>M008x_Faszination für den Flug der Scheiben</th>\n",
       "      <td>1</td>\n",
       "      <td>225</td>\n",
       "      <td>55</td>\n",
       "      <td>281</td>\n",
       "    </tr>\n",
       "    <tr>\n",
       "      <th>M008x_zeitliche Flexibilität</th>\n",
       "      <td>1</td>\n",
       "      <td>174</td>\n",
       "      <td>67</td>\n",
       "      <td>242</td>\n",
       "    </tr>\n",
       "    <tr>\n",
       "      <th>M008x_nette Menschen kennen gelernt</th>\n",
       "      <td>0</td>\n",
       "      <td>170</td>\n",
       "      <td>66</td>\n",
       "      <td>236</td>\n",
       "    </tr>\n",
       "    <tr>\n",
       "      <th>M008x_geringe Kosten</th>\n",
       "      <td>1</td>\n",
       "      <td>125</td>\n",
       "      <td>57</td>\n",
       "      <td>183</td>\n",
       "    </tr>\n",
       "    <tr>\n",
       "      <th>M008x_schnelle Lernkurve hat Ehrgeiz geweckt</th>\n",
       "      <td>1</td>\n",
       "      <td>131</td>\n",
       "      <td>43</td>\n",
       "      <td>175</td>\n",
       "    </tr>\n",
       "    <tr>\n",
       "      <th>M008x_Lust auf neue Herausforderung</th>\n",
       "      <td>0</td>\n",
       "      <td>131</td>\n",
       "      <td>42</td>\n",
       "      <td>173</td>\n",
       "    </tr>\n",
       "    <tr>\n",
       "      <th>M008x_gemeinsames Hobby mit Familie/Freunde</th>\n",
       "      <td>1</td>\n",
       "      <td>125</td>\n",
       "      <td>47</td>\n",
       "      <td>173</td>\n",
       "    </tr>\n",
       "    <tr>\n",
       "      <th>M008x_gemeinsames Hobby mit PartnerIn</th>\n",
       "      <td>0</td>\n",
       "      <td>48</td>\n",
       "      <td>73</td>\n",
       "      <td>121</td>\n",
       "    </tr>\n",
       "    <tr>\n",
       "      <th>M008x_vergleichsweise geringe körperliche Belastung</th>\n",
       "      <td>0</td>\n",
       "      <td>65</td>\n",
       "      <td>16</td>\n",
       "      <td>81</td>\n",
       "    </tr>\n",
       "    <tr>\n",
       "      <th>M008x_Sonstiges</th>\n",
       "      <td>3</td>\n",
       "      <td>22</td>\n",
       "      <td>17</td>\n",
       "      <td>42</td>\n",
       "    </tr>\n",
       "  </tbody>\n",
       "</table>\n",
       "</div>"
      ],
      "text/plain": [
       "SD01_Geschlecht                                     Divers  Männlich  \\\n",
       "Variable                                                               \n",
       "M008x_Bewegung an der frischen Luft                      1       233   \n",
       "M008x_Faszination für den Flug der Scheiben              1       225   \n",
       "M008x_zeitliche Flexibilität                             1       174   \n",
       "M008x_nette Menschen kennen gelernt                      0       170   \n",
       "M008x_geringe Kosten                                     1       125   \n",
       "M008x_schnelle Lernkurve hat Ehrgeiz geweckt             1       131   \n",
       "M008x_Lust auf neue Herausforderung                      0       131   \n",
       "M008x_gemeinsames Hobby mit Familie/Freunde              1       125   \n",
       "M008x_gemeinsames Hobby mit PartnerIn                    0        48   \n",
       "M008x_vergleichsweise geringe körperliche Belas...       0        65   \n",
       "M008x_Sonstiges                                          3        22   \n",
       "\n",
       "SD01_Geschlecht                                     Weiblich  Summe  \n",
       "Variable                                                             \n",
       "M008x_Bewegung an der frischen Luft                      100    334  \n",
       "M008x_Faszination für den Flug der Scheiben               55    281  \n",
       "M008x_zeitliche Flexibilität                              67    242  \n",
       "M008x_nette Menschen kennen gelernt                       66    236  \n",
       "M008x_geringe Kosten                                      57    183  \n",
       "M008x_schnelle Lernkurve hat Ehrgeiz geweckt              43    175  \n",
       "M008x_Lust auf neue Herausforderung                       42    173  \n",
       "M008x_gemeinsames Hobby mit Familie/Freunde               47    173  \n",
       "M008x_gemeinsames Hobby mit PartnerIn                     73    121  \n",
       "M008x_vergleichsweise geringe körperliche Belas...        16     81  \n",
       "M008x_Sonstiges                                           17     42  "
      ]
     },
     "execution_count": 113,
     "metadata": {},
     "output_type": "execute_result"
    }
   ],
   "source": [
    "# Define the value you want to count (2 = ausgewählt)\n",
    "value_to_count = 2\n",
    "\n",
    "# Select columns that start with 'M027x_' OR 'SD01_'\n",
    "M008_columns = golf.filter(regex='^(M008x_|SD01_)')\n",
    "\n",
    "# Leere Liste für neue Daten\n",
    "counts = []\n",
    "\n",
    "# Loop through each selected column and count the frequencies of the value 2\n",
    "for col in M008_columns:\n",
    "    # Groupby-Methode anwenden und nach der Spalte 'Geschlecht' gruppieren\n",
    "    groupby_gender = golf.groupby('SD01_Geschlecht')\n",
    "    \n",
    "    # Anzahl der Vorkommen von 'value_to_count' in der Spalte 'col' pro Geschlecht zählen\n",
    "    count_by_gender = groupby_gender.apply(lambda x: (x[col] == value_to_count).sum())\n",
    "    \n",
    "    # Neue Daten als Dictionary speichern und zur Liste 'counts' hinzufügen\n",
    "    for gender in count_by_gender.index:\n",
    "        new_row = {'Variable': col, 'SD01_Geschlecht': gender, 'count': count_by_gender[gender]}\n",
    "        counts.append(new_row)\n",
    "\n",
    "# Liste in Dataframe umwandeln \n",
    "golf_M008 = pd.DataFrame(counts)\n",
    "\n",
    "# sortieren und summieren\n",
    "golf_M008_pivot = golf_M008.pivot(index='Variable', columns='SD01_Geschlecht', values='count')\n",
    "golf_M008_pivot['Summe'] = golf_M008_pivot.sum(axis=1)\n",
    "golf_M008_pivot = golf_M008_pivot.sort_values(by='Summe', ascending=False)\n",
    "golf_M008_pivot\n",
    "\n",
    "#drop last row\n",
    "golf_M008_pivot = golf_M008_pivot.drop(golf_M008_pivot.index[-1])\n",
    "golf_M008_pivot"
   ]
  },
  {
   "cell_type": "markdown",
   "id": "7b125fe0",
   "metadata": {},
   "source": [
    "#### Wieviel Prozent der Männer / Frauen / Diverse haben Variable X angekreut?"
   ]
  },
  {
   "cell_type": "code",
   "execution_count": 114,
   "id": "de3fbef2",
   "metadata": {},
   "outputs": [
    {
     "data": {
      "text/html": [
       "<div>\n",
       "<style scoped>\n",
       "    .dataframe tbody tr th:only-of-type {\n",
       "        vertical-align: middle;\n",
       "    }\n",
       "\n",
       "    .dataframe tbody tr th {\n",
       "        vertical-align: top;\n",
       "    }\n",
       "\n",
       "    .dataframe thead th {\n",
       "        text-align: right;\n",
       "    }\n",
       "</style>\n",
       "<table border=\"1\" class=\"dataframe\">\n",
       "  <thead>\n",
       "    <tr style=\"text-align: right;\">\n",
       "      <th>SD01_Geschlecht</th>\n",
       "      <th>Divers</th>\n",
       "      <th>Männlich</th>\n",
       "      <th>Weiblich</th>\n",
       "      <th>Summe</th>\n",
       "    </tr>\n",
       "    <tr>\n",
       "      <th>Variable</th>\n",
       "      <th></th>\n",
       "      <th></th>\n",
       "      <th></th>\n",
       "      <th></th>\n",
       "    </tr>\n",
       "  </thead>\n",
       "  <tbody>\n",
       "    <tr>\n",
       "      <th>M008x_Bewegung an der frischen Luft</th>\n",
       "      <td>25.0</td>\n",
       "      <td>84.4</td>\n",
       "      <td>86.2</td>\n",
       "      <td>84.3</td>\n",
       "    </tr>\n",
       "    <tr>\n",
       "      <th>M008x_Faszination für den Flug der Scheiben</th>\n",
       "      <td>25.0</td>\n",
       "      <td>81.5</td>\n",
       "      <td>47.4</td>\n",
       "      <td>71.0</td>\n",
       "    </tr>\n",
       "    <tr>\n",
       "      <th>M008x_zeitliche Flexibilität</th>\n",
       "      <td>25.0</td>\n",
       "      <td>63.0</td>\n",
       "      <td>57.8</td>\n",
       "      <td>61.1</td>\n",
       "    </tr>\n",
       "    <tr>\n",
       "      <th>M008x_nette Menschen kennen gelernt</th>\n",
       "      <td>0.0</td>\n",
       "      <td>61.6</td>\n",
       "      <td>56.9</td>\n",
       "      <td>59.6</td>\n",
       "    </tr>\n",
       "    <tr>\n",
       "      <th>M008x_geringe Kosten</th>\n",
       "      <td>25.0</td>\n",
       "      <td>45.3</td>\n",
       "      <td>49.1</td>\n",
       "      <td>46.2</td>\n",
       "    </tr>\n",
       "    <tr>\n",
       "      <th>M008x_schnelle Lernkurve hat Ehrgeiz geweckt</th>\n",
       "      <td>25.0</td>\n",
       "      <td>47.5</td>\n",
       "      <td>37.1</td>\n",
       "      <td>44.2</td>\n",
       "    </tr>\n",
       "    <tr>\n",
       "      <th>M008x_Lust auf neue Herausforderung</th>\n",
       "      <td>0.0</td>\n",
       "      <td>47.5</td>\n",
       "      <td>36.2</td>\n",
       "      <td>43.7</td>\n",
       "    </tr>\n",
       "    <tr>\n",
       "      <th>M008x_gemeinsames Hobby mit Familie/Freunde</th>\n",
       "      <td>25.0</td>\n",
       "      <td>45.3</td>\n",
       "      <td>40.5</td>\n",
       "      <td>43.7</td>\n",
       "    </tr>\n",
       "    <tr>\n",
       "      <th>M008x_gemeinsames Hobby mit PartnerIn</th>\n",
       "      <td>0.0</td>\n",
       "      <td>17.4</td>\n",
       "      <td>62.9</td>\n",
       "      <td>30.6</td>\n",
       "    </tr>\n",
       "    <tr>\n",
       "      <th>M008x_vergleichsweise geringe körperliche Belastung</th>\n",
       "      <td>0.0</td>\n",
       "      <td>23.6</td>\n",
       "      <td>13.8</td>\n",
       "      <td>20.5</td>\n",
       "    </tr>\n",
       "    <tr>\n",
       "      <th>M008x_Sonstiges</th>\n",
       "      <td>75.0</td>\n",
       "      <td>8.0</td>\n",
       "      <td>14.7</td>\n",
       "      <td>10.6</td>\n",
       "    </tr>\n",
       "  </tbody>\n",
       "</table>\n",
       "</div>"
      ],
      "text/plain": [
       "SD01_Geschlecht                                     Divers  Männlich  \\\n",
       "Variable                                                               \n",
       "M008x_Bewegung an der frischen Luft                   25.0      84.4   \n",
       "M008x_Faszination für den Flug der Scheiben           25.0      81.5   \n",
       "M008x_zeitliche Flexibilität                          25.0      63.0   \n",
       "M008x_nette Menschen kennen gelernt                    0.0      61.6   \n",
       "M008x_geringe Kosten                                  25.0      45.3   \n",
       "M008x_schnelle Lernkurve hat Ehrgeiz geweckt          25.0      47.5   \n",
       "M008x_Lust auf neue Herausforderung                    0.0      47.5   \n",
       "M008x_gemeinsames Hobby mit Familie/Freunde           25.0      45.3   \n",
       "M008x_gemeinsames Hobby mit PartnerIn                  0.0      17.4   \n",
       "M008x_vergleichsweise geringe körperliche Belas...     0.0      23.6   \n",
       "M008x_Sonstiges                                       75.0       8.0   \n",
       "\n",
       "SD01_Geschlecht                                     Weiblich  Summe  \n",
       "Variable                                                             \n",
       "M008x_Bewegung an der frischen Luft                     86.2   84.3  \n",
       "M008x_Faszination für den Flug der Scheiben             47.4   71.0  \n",
       "M008x_zeitliche Flexibilität                            57.8   61.1  \n",
       "M008x_nette Menschen kennen gelernt                     56.9   59.6  \n",
       "M008x_geringe Kosten                                    49.1   46.2  \n",
       "M008x_schnelle Lernkurve hat Ehrgeiz geweckt            37.1   44.2  \n",
       "M008x_Lust auf neue Herausforderung                     36.2   43.7  \n",
       "M008x_gemeinsames Hobby mit Familie/Freunde             40.5   43.7  \n",
       "M008x_gemeinsames Hobby mit PartnerIn                   62.9   30.6  \n",
       "M008x_vergleichsweise geringe körperliche Belas...      13.8   20.5  \n",
       "M008x_Sonstiges                                         14.7   10.6  "
      ]
     },
     "execution_count": 114,
     "metadata": {},
     "output_type": "execute_result"
    }
   ],
   "source": [
    "divisoren = [4, 276, 116, 396]\n",
    "golf_M008_pct = golf_M008_pivot.div(divisoren) * 100\n",
    "golf_M008_pct = golf_M008_pct.round(1)\n",
    "golf_M008_pct"
   ]
  },
  {
   "cell_type": "markdown",
   "id": "5292f50b",
   "metadata": {},
   "source": [
    "### M009_WD09 Wie wohl fühlst du dich in der Discgolfgemeinschaft? (1-101)"
   ]
  },
  {
   "cell_type": "code",
   "execution_count": 115,
   "id": "2a5ad206",
   "metadata": {},
   "outputs": [
    {
     "data": {
      "text/plain": [
       "0"
      ]
     },
     "execution_count": 115,
     "metadata": {},
     "output_type": "execute_result"
    }
   ],
   "source": [
    "# check fehlende Werte\n",
    "golf.M009_01_WD09_01.isna().sum()"
   ]
  },
  {
   "cell_type": "code",
   "execution_count": 116,
   "id": "e78fb757",
   "metadata": {},
   "outputs": [
    {
     "data": {
      "text/plain": [
       "78.01515151515152"
      ]
     },
     "execution_count": 116,
     "metadata": {},
     "output_type": "execute_result"
    }
   ],
   "source": [
    "# Durchschnittliches Wohlbefinden 1 - 101\n",
    "golf.M009_01_WD09_01.mean()"
   ]
  },
  {
   "cell_type": "code",
   "execution_count": 117,
   "id": "cb9038e0",
   "metadata": {},
   "outputs": [
    {
     "data": {
      "text/plain": [
       "SD01_Geschlecht\n",
       "Divers      35.500000\n",
       "Männlich    81.126812\n",
       "Weiblich    72.077586\n",
       "Name: M009_01_WD09_01, dtype: float64"
      ]
     },
     "execution_count": 117,
     "metadata": {},
     "output_type": "execute_result"
    }
   ],
   "source": [
    "# Durchschnittliches Wohlbefinden nach Geschlechtern 1 - 101\n",
    "golf.groupby('SD01_Geschlecht')['M009_01_WD09_01'].mean()"
   ]
  },
  {
   "cell_type": "markdown",
   "id": "8877f5cc",
   "metadata": {},
   "source": [
    "### M010_WD10 Schätzung der weiblich/divers gemeldeten SpielerInnen (%)"
   ]
  },
  {
   "cell_type": "code",
   "execution_count": 118,
   "id": "d73c42cb",
   "metadata": {},
   "outputs": [
    {
     "data": {
      "text/plain": [
       "(dtype('float64'), dtype('O'))"
      ]
     },
     "execution_count": 118,
     "metadata": {},
     "output_type": "execute_result"
    }
   ],
   "source": [
    "# Umbenennen der Variablen\n",
    "golf = golf.rename(columns={'M010_01_WD10_01': 'weiblich-gemeldet',  'M010_02_WD10_02': 'divers-gemeldet'})\n",
    "# check data type\n",
    "golf['weiblich-gemeldet'].dtype, golf['divers-gemeldet'].dtype\n",
    "# Objects in "
   ]
  },
  {
   "cell_type": "code",
   "execution_count": 119,
   "id": "41d63f55",
   "metadata": {},
   "outputs": [
    {
     "data": {
      "text/plain": [
       "array(['0,5', '0', '1', '90', '0,1', '10', '0,2', nan, '3', '5', '2',\n",
       "       '0,05', ',1', '>1', '20', '<1', '85', '0,3', '0.5', '0,001', '97',\n",
       "       '0,02', '4', '0.2', '0.1', '80', '.5', '0,5 - 1', '0,01', '7',\n",
       "       '92', '12'], dtype=object)"
      ]
     },
     "execution_count": 119,
     "metadata": {},
     "output_type": "execute_result"
    }
   ],
   "source": [
    "golf['divers-gemeldet'].unique() #ein paar sehr hohe Schätzungen dabei..."
   ]
  },
  {
   "cell_type": "code",
   "execution_count": 120,
   "id": "3bc20400",
   "metadata": {},
   "outputs": [],
   "source": [
    "# Zahlen mit Kommastellen und data type vereinheitlichen \n",
    "umkodierung = {'0,5':0.5, '0,2':0.2, '0,1':0.1, '0,01':0.01,'0,05':0.05, ',1': 0.1, '>1': 1, '<1':1, '0,3':0.3, '0,001':0.001, '0,02':0.02, '.5':0.5, '0,5 - 1': 0.75}\n",
    "golf['divers-gemeldet'] = golf['divers-gemeldet'].replace(umkodierung)\n",
    "golf['divers-gemeldet'] = golf['divers-gemeldet'].astype(float)"
   ]
  },
  {
   "cell_type": "code",
   "execution_count": 121,
   "id": "59020821",
   "metadata": {},
   "outputs": [
    {
     "name": "stdout",
     "output_type": "stream",
     "text": [
      "13.0 Prozent\n"
     ]
    }
   ],
   "source": [
    "# Schätzung Anteil der weiblichen SpielerInnen (Mittelwert)\n",
    "x  = golf['weiblich-gemeldet'].mean()\n",
    "print(f'{x} Prozent')"
   ]
  },
  {
   "cell_type": "code",
   "execution_count": 122,
   "id": "4c357221",
   "metadata": {},
   "outputs": [
    {
     "data": {
      "text/plain": [
       "SD01_Geschlecht\n",
       "Divers      14.750000\n",
       "Männlich    11.912214\n",
       "Weiblich    15.504505\n",
       "Name: weiblich-gemeldet, dtype: float64"
      ]
     },
     "execution_count": 122,
     "metadata": {},
     "output_type": "execute_result"
    }
   ],
   "source": [
    "golf.groupby('SD01_Geschlecht')['weiblich-gemeldet'].mean() #Frauen überschätzen ihren eigenen Anteil"
   ]
  },
  {
   "cell_type": "code",
   "execution_count": 123,
   "id": "3ba2244c",
   "metadata": {},
   "outputs": [
    {
     "name": "stdout",
     "output_type": "stream",
     "text": [
      "3.363178272980502 Prozent\n"
     ]
    }
   ],
   "source": [
    "# Schätzung Anteil der diversen SpielerInnen (Mittelwert)\n",
    "x  = golf['divers-gemeldet'].mean()\n",
    "print(f'{x} Prozent')"
   ]
  },
  {
   "cell_type": "code",
   "execution_count": 124,
   "id": "0993bc26",
   "metadata": {},
   "outputs": [
    {
     "data": {
      "text/plain": [
       "SD01_Geschlecht\n",
       "Divers      1.125000\n",
       "Männlich    3.974528\n",
       "Weiblich    1.954369\n",
       "Name: divers-gemeldet, dtype: float64"
      ]
     },
     "execution_count": 124,
     "metadata": {},
     "output_type": "execute_result"
    }
   ],
   "source": [
    "golf.groupby('SD01_Geschlecht')['divers-gemeldet'].mean() #Männer überschätzen den Anteil divers gemeldeter"
   ]
  },
  {
   "cell_type": "markdown",
   "id": "ebc05058",
   "metadata": {},
   "source": [
    "### SZENARIEN"
   ]
  },
  {
   "cell_type": "markdown",
   "id": "269be6f0",
   "metadata": {},
   "source": [
    "### M027_WD25 Was hast du schonmal erlebt / trifft  auf dich zu? (multiple choice)"
   ]
  },
  {
   "cell_type": "code",
   "execution_count": 125,
   "id": "3be51360",
   "metadata": {},
   "outputs": [],
   "source": [
    "# Umbenennen der Variablen\n",
    "golf = golf.rename(columns={'M027_05_WD25_05':'M027x_Sonstiges' ,'M027_06_WD25_06':'M027x_Habe nichts davon beobachtet / erlebt','M027_01_WD25_01': 'M027x_Verletzung der Eetikette durch Männer', 'M027_02_WD25_02':'M027x_Verletzung der Etikette durch Frauen/TIN', 'M027_03_WD25_03':'M027x_Keine Toilette vorhanden', 'M027_04_WD25_04':'M027x_Kein Verständnis bei Wartzeiten wegen Toilettenbesuch','M027_07_WD25_07':'M027x_Fühle mich als m/w/d Person nicht inkludiert','M027_08_WD25_08':'M027x_Macker-Verhalten oder -Sprüche','M027_09_WD25_09':'M027x_Eingeschüchtert durch sportliche Überlegenheit anderer', 'M027_10_WD25_10':'M027x_Sexistische Inhalte in SM / Chats', 'M027_11_WD25_11':'M027x_sexuelle Belästigung (verbal) beobachtet', 'M027_12_WD25_12':'M027x_sexuelle Belästigung (verbal) erlebt', 'M027_13_WD25_13':'M027x_sexuelle Belästigung (körperlich) beobachtet', 'M027_14_WD25_14':'M027x_sexuelle Belästigung (körperlich) erlebt', ' M027_15_WD25_15':'M027x_männliche(r) Spieler genervt dass ich ihm zugeteilt wurde'})"
   ]
  },
  {
   "cell_type": "code",
   "execution_count": 126,
   "id": "e3bf0931",
   "metadata": {},
   "outputs": [
    {
     "data": {
      "text/html": [
       "<div>\n",
       "<style scoped>\n",
       "    .dataframe tbody tr th:only-of-type {\n",
       "        vertical-align: middle;\n",
       "    }\n",
       "\n",
       "    .dataframe tbody tr th {\n",
       "        vertical-align: top;\n",
       "    }\n",
       "\n",
       "    .dataframe thead th {\n",
       "        text-align: right;\n",
       "    }\n",
       "</style>\n",
       "<table border=\"1\" class=\"dataframe\">\n",
       "  <thead>\n",
       "    <tr style=\"text-align: right;\">\n",
       "      <th></th>\n",
       "      <th>Variable</th>\n",
       "      <th>count</th>\n",
       "    </tr>\n",
       "  </thead>\n",
       "  <tbody>\n",
       "    <tr>\n",
       "      <th>3</th>\n",
       "      <td>M027x_Keine Toilette vorhanden</td>\n",
       "      <td>269</td>\n",
       "    </tr>\n",
       "    <tr>\n",
       "      <th>1</th>\n",
       "      <td>M027x_Verletzung der Eetikette durch Männer</td>\n",
       "      <td>235</td>\n",
       "    </tr>\n",
       "    <tr>\n",
       "      <th>8</th>\n",
       "      <td>M027x_Macker-Verhalten oder -Sprüche</td>\n",
       "      <td>165</td>\n",
       "    </tr>\n",
       "    <tr>\n",
       "      <th>2</th>\n",
       "      <td>M027x_Verletzung der Etikette durch Frauen/TIN</td>\n",
       "      <td>133</td>\n",
       "    </tr>\n",
       "    <tr>\n",
       "      <th>9</th>\n",
       "      <td>M027x_Eingeschüchtert durch sportliche Überleg...</td>\n",
       "      <td>123</td>\n",
       "    </tr>\n",
       "    <tr>\n",
       "      <th>10</th>\n",
       "      <td>M027x_Sexistische Inhalte in SM / Chats</td>\n",
       "      <td>62</td>\n",
       "    </tr>\n",
       "    <tr>\n",
       "      <th>6</th>\n",
       "      <td>M027x_Habe nichts davon beobachtet / erlebt</td>\n",
       "      <td>54</td>\n",
       "    </tr>\n",
       "    <tr>\n",
       "      <th>11</th>\n",
       "      <td>M027x_sexuelle Belästigung (verbal) beobachtet</td>\n",
       "      <td>53</td>\n",
       "    </tr>\n",
       "    <tr>\n",
       "      <th>5</th>\n",
       "      <td>M027x_Sonstiges</td>\n",
       "      <td>36</td>\n",
       "    </tr>\n",
       "    <tr>\n",
       "      <th>4</th>\n",
       "      <td>M027x_Kein Verständnis bei Wartzeiten wegen To...</td>\n",
       "      <td>28</td>\n",
       "    </tr>\n",
       "    <tr>\n",
       "      <th>7</th>\n",
       "      <td>M027x_Fühle mich als m/w/d Person nicht inklud...</td>\n",
       "      <td>22</td>\n",
       "    </tr>\n",
       "    <tr>\n",
       "      <th>12</th>\n",
       "      <td>M027x_sexuelle Belästigung (verbal) erlebt</td>\n",
       "      <td>22</td>\n",
       "    </tr>\n",
       "    <tr>\n",
       "      <th>13</th>\n",
       "      <td>M027x_sexuelle Belästigung (körperlich) beobac...</td>\n",
       "      <td>8</td>\n",
       "    </tr>\n",
       "    <tr>\n",
       "      <th>14</th>\n",
       "      <td>M027x_sexuelle Belästigung (körperlich) erlebt</td>\n",
       "      <td>5</td>\n",
       "    </tr>\n",
       "    <tr>\n",
       "      <th>0</th>\n",
       "      <td>SD01_Geschlecht</td>\n",
       "      <td>0</td>\n",
       "    </tr>\n",
       "  </tbody>\n",
       "</table>\n",
       "</div>"
      ],
      "text/plain": [
       "                                             Variable  count\n",
       "3                      M027x_Keine Toilette vorhanden    269\n",
       "1         M027x_Verletzung der Eetikette durch Männer    235\n",
       "8                M027x_Macker-Verhalten oder -Sprüche    165\n",
       "2      M027x_Verletzung der Etikette durch Frauen/TIN    133\n",
       "9   M027x_Eingeschüchtert durch sportliche Überleg...    123\n",
       "10            M027x_Sexistische Inhalte in SM / Chats     62\n",
       "6         M027x_Habe nichts davon beobachtet / erlebt     54\n",
       "11     M027x_sexuelle Belästigung (verbal) beobachtet     53\n",
       "5                                     M027x_Sonstiges     36\n",
       "4   M027x_Kein Verständnis bei Wartzeiten wegen To...     28\n",
       "7   M027x_Fühle mich als m/w/d Person nicht inklud...     22\n",
       "12         M027x_sexuelle Belästigung (verbal) erlebt     22\n",
       "13  M027x_sexuelle Belästigung (körperlich) beobac...      8\n",
       "14     M027x_sexuelle Belästigung (körperlich) erlebt      5\n",
       "0                                     SD01_Geschlecht      0"
      ]
     },
     "execution_count": 126,
     "metadata": {},
     "output_type": "execute_result"
    }
   ],
   "source": [
    "# Define the value you want to count (2 = ausgewählt)\n",
    "value_to_count = 2\n",
    "\n",
    "# Select columns that start with 'M027x_' OR 'SD01_'\n",
    "M027_columns = golf.filter(regex='^(M027x_|SD01_)')\n",
    "\n",
    "# Leere Liste für neue Daten\n",
    "counts = []\n",
    "\n",
    "# Loop through each selected column and count the frequencies of the value\n",
    "for col in M027_columns:\n",
    "    count = (golf[col] == value_to_count).sum()\n",
    "\n",
    "    # store new data in Dictionary\n",
    "    new_row = {'Variable': col, 'count': count}\n",
    "    \n",
    "    # add new data to empty list 'counts'\n",
    "    counts.append(new_row)\n",
    "\n",
    "# Liste in Dataframe umwandeln und nach Häufigkeiten sortieren\n",
    "golf_M027 = pd.DataFrame(counts).sort_values('count', ascending=False)\n",
    "# Sortieren des DataFrames nach der Spalte \"count\"\n",
    "golf_M027"
   ]
  },
  {
   "cell_type": "markdown",
   "id": "946d3de4",
   "metadata": {},
   "source": [
    "#### Zutreffendes nach nach Geschlechtern "
   ]
  },
  {
   "cell_type": "code",
   "execution_count": 127,
   "id": "d3154a4c",
   "metadata": {},
   "outputs": [
    {
     "data": {
      "text/html": [
       "<div>\n",
       "<style scoped>\n",
       "    .dataframe tbody tr th:only-of-type {\n",
       "        vertical-align: middle;\n",
       "    }\n",
       "\n",
       "    .dataframe tbody tr th {\n",
       "        vertical-align: top;\n",
       "    }\n",
       "\n",
       "    .dataframe thead th {\n",
       "        text-align: right;\n",
       "    }\n",
       "</style>\n",
       "<table border=\"1\" class=\"dataframe\">\n",
       "  <thead>\n",
       "    <tr style=\"text-align: right;\">\n",
       "      <th>SD01_Geschlecht</th>\n",
       "      <th>Divers</th>\n",
       "      <th>Männlich</th>\n",
       "      <th>Weiblich</th>\n",
       "      <th>Summe</th>\n",
       "    </tr>\n",
       "    <tr>\n",
       "      <th>Variable</th>\n",
       "      <th></th>\n",
       "      <th></th>\n",
       "      <th></th>\n",
       "      <th></th>\n",
       "    </tr>\n",
       "  </thead>\n",
       "  <tbody>\n",
       "    <tr>\n",
       "      <th>M027x_Keine Toilette vorhanden</th>\n",
       "      <td>3</td>\n",
       "      <td>180</td>\n",
       "      <td>86</td>\n",
       "      <td>269</td>\n",
       "    </tr>\n",
       "    <tr>\n",
       "      <th>M027x_Verletzung der Eetikette durch Männer</th>\n",
       "      <td>2</td>\n",
       "      <td>183</td>\n",
       "      <td>50</td>\n",
       "      <td>235</td>\n",
       "    </tr>\n",
       "    <tr>\n",
       "      <th>M027x_Macker-Verhalten oder -Sprüche</th>\n",
       "      <td>2</td>\n",
       "      <td>113</td>\n",
       "      <td>50</td>\n",
       "      <td>165</td>\n",
       "    </tr>\n",
       "    <tr>\n",
       "      <th>M027x_Verletzung der Etikette durch Frauen/TIN</th>\n",
       "      <td>1</td>\n",
       "      <td>100</td>\n",
       "      <td>32</td>\n",
       "      <td>133</td>\n",
       "    </tr>\n",
       "    <tr>\n",
       "      <th>M027x_Eingeschüchtert durch sportliche Überlegenheit anderer</th>\n",
       "      <td>1</td>\n",
       "      <td>64</td>\n",
       "      <td>58</td>\n",
       "      <td>123</td>\n",
       "    </tr>\n",
       "    <tr>\n",
       "      <th>M027x_Sexistische Inhalte in SM / Chats</th>\n",
       "      <td>1</td>\n",
       "      <td>47</td>\n",
       "      <td>14</td>\n",
       "      <td>62</td>\n",
       "    </tr>\n",
       "    <tr>\n",
       "      <th>M027x_Habe nichts davon beobachtet / erlebt</th>\n",
       "      <td>1</td>\n",
       "      <td>39</td>\n",
       "      <td>14</td>\n",
       "      <td>54</td>\n",
       "    </tr>\n",
       "    <tr>\n",
       "      <th>M027x_sexuelle Belästigung (verbal) beobachtet</th>\n",
       "      <td>0</td>\n",
       "      <td>37</td>\n",
       "      <td>16</td>\n",
       "      <td>53</td>\n",
       "    </tr>\n",
       "    <tr>\n",
       "      <th>M027x_Sonstiges</th>\n",
       "      <td>2</td>\n",
       "      <td>19</td>\n",
       "      <td>15</td>\n",
       "      <td>36</td>\n",
       "    </tr>\n",
       "    <tr>\n",
       "      <th>M027x_Kein Verständnis bei Wartzeiten wegen Toilettenbesuch</th>\n",
       "      <td>0</td>\n",
       "      <td>14</td>\n",
       "      <td>14</td>\n",
       "      <td>28</td>\n",
       "    </tr>\n",
       "    <tr>\n",
       "      <th>M027x_Fühle mich als m/w/d Person nicht inkludiert</th>\n",
       "      <td>2</td>\n",
       "      <td>5</td>\n",
       "      <td>15</td>\n",
       "      <td>22</td>\n",
       "    </tr>\n",
       "    <tr>\n",
       "      <th>M027x_sexuelle Belästigung (verbal) erlebt</th>\n",
       "      <td>0</td>\n",
       "      <td>6</td>\n",
       "      <td>16</td>\n",
       "      <td>22</td>\n",
       "    </tr>\n",
       "    <tr>\n",
       "      <th>M027x_sexuelle Belästigung (körperlich) beobachtet</th>\n",
       "      <td>0</td>\n",
       "      <td>5</td>\n",
       "      <td>3</td>\n",
       "      <td>8</td>\n",
       "    </tr>\n",
       "    <tr>\n",
       "      <th>M027x_sexuelle Belästigung (körperlich) erlebt</th>\n",
       "      <td>0</td>\n",
       "      <td>1</td>\n",
       "      <td>4</td>\n",
       "      <td>5</td>\n",
       "    </tr>\n",
       "  </tbody>\n",
       "</table>\n",
       "</div>"
      ],
      "text/plain": [
       "SD01_Geschlecht                                     Divers  Männlich  \\\n",
       "Variable                                                               \n",
       "M027x_Keine Toilette vorhanden                           3       180   \n",
       "M027x_Verletzung der Eetikette durch Männer              2       183   \n",
       "M027x_Macker-Verhalten oder -Sprüche                     2       113   \n",
       "M027x_Verletzung der Etikette durch Frauen/TIN           1       100   \n",
       "M027x_Eingeschüchtert durch sportliche Überlege...       1        64   \n",
       "M027x_Sexistische Inhalte in SM / Chats                  1        47   \n",
       "M027x_Habe nichts davon beobachtet / erlebt              1        39   \n",
       "M027x_sexuelle Belästigung (verbal) beobachtet           0        37   \n",
       "M027x_Sonstiges                                          2        19   \n",
       "M027x_Kein Verständnis bei Wartzeiten wegen Toi...       0        14   \n",
       "M027x_Fühle mich als m/w/d Person nicht inkludiert       2         5   \n",
       "M027x_sexuelle Belästigung (verbal) erlebt               0         6   \n",
       "M027x_sexuelle Belästigung (körperlich) beobachtet       0         5   \n",
       "M027x_sexuelle Belästigung (körperlich) erlebt           0         1   \n",
       "\n",
       "SD01_Geschlecht                                     Weiblich  Summe  \n",
       "Variable                                                             \n",
       "M027x_Keine Toilette vorhanden                            86    269  \n",
       "M027x_Verletzung der Eetikette durch Männer               50    235  \n",
       "M027x_Macker-Verhalten oder -Sprüche                      50    165  \n",
       "M027x_Verletzung der Etikette durch Frauen/TIN            32    133  \n",
       "M027x_Eingeschüchtert durch sportliche Überlege...        58    123  \n",
       "M027x_Sexistische Inhalte in SM / Chats                   14     62  \n",
       "M027x_Habe nichts davon beobachtet / erlebt               14     54  \n",
       "M027x_sexuelle Belästigung (verbal) beobachtet            16     53  \n",
       "M027x_Sonstiges                                           15     36  \n",
       "M027x_Kein Verständnis bei Wartzeiten wegen Toi...        14     28  \n",
       "M027x_Fühle mich als m/w/d Person nicht inkludiert        15     22  \n",
       "M027x_sexuelle Belästigung (verbal) erlebt                16     22  \n",
       "M027x_sexuelle Belästigung (körperlich) beobachtet         3      8  \n",
       "M027x_sexuelle Belästigung (körperlich) erlebt             4      5  "
      ]
     },
     "execution_count": 127,
     "metadata": {},
     "output_type": "execute_result"
    }
   ],
   "source": [
    "# Define the value you want to count (2 = ausgewählt)\n",
    "value_to_count = 2\n",
    "\n",
    "# Select columns that start with 'M027x_' OR 'SD01_'\n",
    "M027_columns = golf.filter(regex='^(M027x_|SD01_)')\n",
    "\n",
    "# Leere Liste für neue Daten\n",
    "counts = []\n",
    "\n",
    "# Loop through each selected column and count the frequencies of the value\n",
    "for col in M027_columns:\n",
    "    # Groupby-Methode anwenden und nach der Spalte 'Geschlecht' gruppieren\n",
    "    groupby_gender = golf.groupby('SD01_Geschlecht')\n",
    "    \n",
    "    # Anzahl der Vorkommen von 'value_to_count' in der Spalte 'col' pro Geschlecht zählen\n",
    "    count_by_gender = groupby_gender.apply(lambda x: (x[col] == value_to_count).sum())\n",
    "    \n",
    "    # Neue Daten als Dictionary speichern und zur Liste 'counts' hinzufügen\n",
    "    for gender in count_by_gender.index:\n",
    "        new_row = {'Variable': col, 'SD01_Geschlecht': gender, 'count': count_by_gender[gender]}\n",
    "        counts.append(new_row)\n",
    "\n",
    "# Liste in Dataframe umwandeln \n",
    "golf_M027 = pd.DataFrame(counts)\n",
    "\n",
    "# sortieren und summieren\n",
    "golf_M027_pivot = golf_M027.pivot(index='Variable', columns='SD01_Geschlecht', values='count')\n",
    "golf_M027_pivot['Summe'] = golf_M027_pivot.sum(axis=1)\n",
    "golf_M027_pivot = golf_M027_pivot.sort_values(by='Summe', ascending=False)\n",
    "golf_M027_pivot\n",
    "\n",
    "#drop last row\n",
    "golf_M027_pivot = golf_M027_pivot.drop(golf_M027_pivot.index[-1])\n",
    "golf_M027_pivot"
   ]
  },
  {
   "cell_type": "markdown",
   "id": "1a4319bf",
   "metadata": {},
   "source": [
    "#### Wieviel Prozent der Männer / Frauen / Diverse haben Variable X angekreut?"
   ]
  },
  {
   "cell_type": "code",
   "execution_count": 128,
   "id": "d6b665dd",
   "metadata": {},
   "outputs": [
    {
     "data": {
      "text/html": [
       "<div>\n",
       "<style scoped>\n",
       "    .dataframe tbody tr th:only-of-type {\n",
       "        vertical-align: middle;\n",
       "    }\n",
       "\n",
       "    .dataframe tbody tr th {\n",
       "        vertical-align: top;\n",
       "    }\n",
       "\n",
       "    .dataframe thead th {\n",
       "        text-align: right;\n",
       "    }\n",
       "</style>\n",
       "<table border=\"1\" class=\"dataframe\">\n",
       "  <thead>\n",
       "    <tr style=\"text-align: right;\">\n",
       "      <th>SD01_Geschlecht</th>\n",
       "      <th>Divers</th>\n",
       "      <th>Männlich</th>\n",
       "      <th>Weiblich</th>\n",
       "      <th>Summe</th>\n",
       "    </tr>\n",
       "    <tr>\n",
       "      <th>Variable</th>\n",
       "      <th></th>\n",
       "      <th></th>\n",
       "      <th></th>\n",
       "      <th></th>\n",
       "    </tr>\n",
       "  </thead>\n",
       "  <tbody>\n",
       "    <tr>\n",
       "      <th>M027x_Keine Toilette vorhanden</th>\n",
       "      <td>75.0</td>\n",
       "      <td>65.2</td>\n",
       "      <td>74.1</td>\n",
       "      <td>67.9</td>\n",
       "    </tr>\n",
       "    <tr>\n",
       "      <th>M027x_Verletzung der Eetikette durch Männer</th>\n",
       "      <td>50.0</td>\n",
       "      <td>66.3</td>\n",
       "      <td>43.1</td>\n",
       "      <td>59.3</td>\n",
       "    </tr>\n",
       "    <tr>\n",
       "      <th>M027x_Macker-Verhalten oder -Sprüche</th>\n",
       "      <td>50.0</td>\n",
       "      <td>40.9</td>\n",
       "      <td>43.1</td>\n",
       "      <td>41.7</td>\n",
       "    </tr>\n",
       "    <tr>\n",
       "      <th>M027x_Verletzung der Etikette durch Frauen/TIN</th>\n",
       "      <td>25.0</td>\n",
       "      <td>36.2</td>\n",
       "      <td>27.6</td>\n",
       "      <td>33.6</td>\n",
       "    </tr>\n",
       "    <tr>\n",
       "      <th>M027x_Eingeschüchtert durch sportliche Überlegenheit anderer</th>\n",
       "      <td>25.0</td>\n",
       "      <td>23.2</td>\n",
       "      <td>50.0</td>\n",
       "      <td>31.1</td>\n",
       "    </tr>\n",
       "    <tr>\n",
       "      <th>M027x_Sexistische Inhalte in SM / Chats</th>\n",
       "      <td>25.0</td>\n",
       "      <td>17.0</td>\n",
       "      <td>12.1</td>\n",
       "      <td>15.7</td>\n",
       "    </tr>\n",
       "    <tr>\n",
       "      <th>M027x_Habe nichts davon beobachtet / erlebt</th>\n",
       "      <td>25.0</td>\n",
       "      <td>14.1</td>\n",
       "      <td>12.1</td>\n",
       "      <td>13.6</td>\n",
       "    </tr>\n",
       "    <tr>\n",
       "      <th>M027x_sexuelle Belästigung (verbal) beobachtet</th>\n",
       "      <td>0.0</td>\n",
       "      <td>13.4</td>\n",
       "      <td>13.8</td>\n",
       "      <td>13.4</td>\n",
       "    </tr>\n",
       "    <tr>\n",
       "      <th>M027x_Sonstiges</th>\n",
       "      <td>50.0</td>\n",
       "      <td>6.9</td>\n",
       "      <td>12.9</td>\n",
       "      <td>9.1</td>\n",
       "    </tr>\n",
       "    <tr>\n",
       "      <th>M027x_Kein Verständnis bei Wartzeiten wegen Toilettenbesuch</th>\n",
       "      <td>0.0</td>\n",
       "      <td>5.1</td>\n",
       "      <td>12.1</td>\n",
       "      <td>7.1</td>\n",
       "    </tr>\n",
       "    <tr>\n",
       "      <th>M027x_Fühle mich als m/w/d Person nicht inkludiert</th>\n",
       "      <td>50.0</td>\n",
       "      <td>1.8</td>\n",
       "      <td>12.9</td>\n",
       "      <td>5.6</td>\n",
       "    </tr>\n",
       "    <tr>\n",
       "      <th>M027x_sexuelle Belästigung (verbal) erlebt</th>\n",
       "      <td>0.0</td>\n",
       "      <td>2.2</td>\n",
       "      <td>13.8</td>\n",
       "      <td>5.6</td>\n",
       "    </tr>\n",
       "    <tr>\n",
       "      <th>M027x_sexuelle Belästigung (körperlich) beobachtet</th>\n",
       "      <td>0.0</td>\n",
       "      <td>1.8</td>\n",
       "      <td>2.6</td>\n",
       "      <td>2.0</td>\n",
       "    </tr>\n",
       "    <tr>\n",
       "      <th>M027x_sexuelle Belästigung (körperlich) erlebt</th>\n",
       "      <td>0.0</td>\n",
       "      <td>0.4</td>\n",
       "      <td>3.4</td>\n",
       "      <td>1.3</td>\n",
       "    </tr>\n",
       "  </tbody>\n",
       "</table>\n",
       "</div>"
      ],
      "text/plain": [
       "SD01_Geschlecht                                     Divers  Männlich  \\\n",
       "Variable                                                               \n",
       "M027x_Keine Toilette vorhanden                        75.0      65.2   \n",
       "M027x_Verletzung der Eetikette durch Männer           50.0      66.3   \n",
       "M027x_Macker-Verhalten oder -Sprüche                  50.0      40.9   \n",
       "M027x_Verletzung der Etikette durch Frauen/TIN        25.0      36.2   \n",
       "M027x_Eingeschüchtert durch sportliche Überlege...    25.0      23.2   \n",
       "M027x_Sexistische Inhalte in SM / Chats               25.0      17.0   \n",
       "M027x_Habe nichts davon beobachtet / erlebt           25.0      14.1   \n",
       "M027x_sexuelle Belästigung (verbal) beobachtet         0.0      13.4   \n",
       "M027x_Sonstiges                                       50.0       6.9   \n",
       "M027x_Kein Verständnis bei Wartzeiten wegen Toi...     0.0       5.1   \n",
       "M027x_Fühle mich als m/w/d Person nicht inkludiert    50.0       1.8   \n",
       "M027x_sexuelle Belästigung (verbal) erlebt             0.0       2.2   \n",
       "M027x_sexuelle Belästigung (körperlich) beobachtet     0.0       1.8   \n",
       "M027x_sexuelle Belästigung (körperlich) erlebt         0.0       0.4   \n",
       "\n",
       "SD01_Geschlecht                                     Weiblich  Summe  \n",
       "Variable                                                             \n",
       "M027x_Keine Toilette vorhanden                          74.1   67.9  \n",
       "M027x_Verletzung der Eetikette durch Männer             43.1   59.3  \n",
       "M027x_Macker-Verhalten oder -Sprüche                    43.1   41.7  \n",
       "M027x_Verletzung der Etikette durch Frauen/TIN          27.6   33.6  \n",
       "M027x_Eingeschüchtert durch sportliche Überlege...      50.0   31.1  \n",
       "M027x_Sexistische Inhalte in SM / Chats                 12.1   15.7  \n",
       "M027x_Habe nichts davon beobachtet / erlebt             12.1   13.6  \n",
       "M027x_sexuelle Belästigung (verbal) beobachtet          13.8   13.4  \n",
       "M027x_Sonstiges                                         12.9    9.1  \n",
       "M027x_Kein Verständnis bei Wartzeiten wegen Toi...      12.1    7.1  \n",
       "M027x_Fühle mich als m/w/d Person nicht inkludiert      12.9    5.6  \n",
       "M027x_sexuelle Belästigung (verbal) erlebt              13.8    5.6  \n",
       "M027x_sexuelle Belästigung (körperlich) beobachtet       2.6    2.0  \n",
       "M027x_sexuelle Belästigung (körperlich) erlebt           3.4    1.3  "
      ]
     },
     "execution_count": 128,
     "metadata": {},
     "output_type": "execute_result"
    }
   ],
   "source": [
    "divisoren = [4, 276, 116, 396]\n",
    "golf_M027_pct = golf_M027_pivot.div(divisoren) * 100\n",
    "golf_M027_pct = golf_M027_pct.round(1)\n",
    "golf_M027_pct"
   ]
  },
  {
   "cell_type": "code",
   "execution_count": null,
   "id": "b4575419",
   "metadata": {},
   "outputs": [],
   "source": []
  },
  {
   "cell_type": "code",
   "execution_count": null,
   "id": "02e078f8",
   "metadata": {},
   "outputs": [],
   "source": []
  },
  {
   "cell_type": "code",
   "execution_count": null,
   "id": "cff0ef6c",
   "metadata": {},
   "outputs": [],
   "source": []
  }
 ],
 "metadata": {
  "hide_input": false,
  "kernelspec": {
   "display_name": "Python 3",
   "language": "python",
   "name": "python3"
  },
  "language_info": {
   "codemirror_mode": {
    "name": "ipython",
    "version": 3
   },
   "file_extension": ".py",
   "mimetype": "text/x-python",
   "name": "python",
   "nbconvert_exporter": "python",
   "pygments_lexer": "ipython3",
   "version": "3.8.8"
  }
 },
 "nbformat": 4,
 "nbformat_minor": 5
}
